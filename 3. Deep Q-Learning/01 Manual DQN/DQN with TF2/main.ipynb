{
 "cells": [
  {
   "cell_type": "code",
   "execution_count": null,
   "metadata": {},
   "outputs": [],
   "source": [
    "from agentee import Agent\n",
    "import numpy as np\n",
    "import gym\n",
    "import matplotlib.pyplot as plt"
   ]
  },
  {
   "cell_type": "code",
   "execution_count": null,
   "metadata": {},
   "outputs": [],
   "source": [
    "if __name__ == '__main__':\n",
    "    env = gym.make('CartPole-v1')\n",
    "    best_score = -np.inf\n",
    "    load_checkpoint = False\n",
    "    n_games = 250\n",
    "    agent = Agent(gamma=0.99, epsilon=1, lr=0.001, input_dims=(env.observation_space.shape), \n",
    "                  n_actions=env.action_space.n, mem_size=50000, eps_min=0.1, batch_size=32, replace=1000, \n",
    "                  eps_dec=1e-5)\n",
    "\n",
    "    n_steps = 0\n",
    "    scores, eps_history, steps_array = [], [], []\n",
    "\n",
    "    for i in range(n_games):\n",
    "        done = False\n",
    "        observation = env.reset()\n",
    "\n",
    "        score = 0\n",
    "        while not done:\n",
    "            action = agent.choose_action(observation)\n",
    "            observation_, reward, done, info = env.step(action)\n",
    "            score += reward\n",
    "\n",
    "            if not load_checkpoint:\n",
    "                agent.store_transition(observation, action,\n",
    "                                       reward, observation_, done)\n",
    "                agent.learn()\n",
    "            observation = observation_\n",
    "            n_steps += 1\n",
    "        scores.append(score)\n",
    "        steps_array.append(n_steps)\n",
    "\n",
    "        avg_score = np.mean(scores[-100:])\n",
    "        \n",
    "        print(f'episode {i} score {score:.1f} avg score {avg_score:.1f} best score {best_score:.1f} epsilon {agent.epsilon:.2f} steps {n_steps}')\n",
    " \n",
    "\n",
    "        if score > best_score:\n",
    "            best_score = score\n",
    "\n",
    "        eps_history.append(agent.epsilon)\n",
    "\n",
    "    x = [i+1 for i in range(len(scores))]"
   ]
  },
  {
   "cell_type": "code",
   "execution_count": null,
   "metadata": {},
   "outputs": [],
   "source": [
    "    fig=plt.figure()\n",
    "    ax=fig.add_subplot(111, label=\"1\")\n",
    "    ax2=fig.add_subplot(111, label=\"2\", frame_on=False)\n",
    "\n",
    "    ax.plot(x, eps_history, color=\"C0\")\n",
    "    ax.set_xlabel(\"Training Steps\", color=\"C0\")\n",
    "    ax.set_ylabel(\"Epsilon\", color=\"C0\")\n",
    "    ax.tick_params(axis='x', colors=\"C0\")\n",
    "    ax.tick_params(axis='y', colors=\"C0\")\n",
    "\n",
    "    N = len(scores)\n",
    "    running_avg = np.empty(N)\n",
    "    for t in range(N):\n",
    "\t    running_avg[t] = np.mean(scores[max(0, t-20):(t+1)])\n",
    "\n",
    "    ax2.scatter(x, running_avg, color=\"C1\")\n",
    "    ax2.axes.get_xaxis().set_visible(False)\n",
    "    ax2.yaxis.tick_right()\n",
    "    ax2.set_ylabel('Score', color=\"C1\")\n",
    "    ax2.yaxis.set_label_position('right')\n",
    "    ax2.tick_params(axis='y', colors=\"C1\")\n"
   ]
  }
 ],
 "metadata": {
  "kernelspec": {
   "display_name": "Python 3.9.12 ('base')",
   "language": "python",
   "name": "python3"
  },
  "language_info": {
   "codemirror_mode": {
    "name": "ipython",
    "version": 3
   },
   "file_extension": ".py",
   "mimetype": "text/x-python",
   "name": "python",
   "nbconvert_exporter": "python",
   "pygments_lexer": "ipython3",
   "version": "3.9.12"
  },
  "orig_nbformat": 4,
  "vscode": {
   "interpreter": {
    "hash": "20a9e06a1eee47c4abbed4ec8225ad91d78d9800d202b71b6b0a6e47016c6abd"
   }
  }
 },
 "nbformat": 4,
 "nbformat_minor": 2
}
