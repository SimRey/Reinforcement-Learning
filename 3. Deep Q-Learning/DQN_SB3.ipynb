{
 "cells": [
  {
   "cell_type": "code",
   "execution_count": 1,
   "metadata": {},
   "outputs": [],
   "source": [
    "import gym\n",
    "from stable_baselines3 import DQN"
   ]
  },
  {
   "cell_type": "code",
   "execution_count": 2,
   "metadata": {},
   "outputs": [
    {
     "data": {
      "text/plain": [
       "<stable_baselines3.dqn.dqn.DQN at 0x28aa4e53cd0>"
      ]
     },
     "execution_count": 2,
     "metadata": {},
     "output_type": "execute_result"
    }
   ],
   "source": [
    "env = gym.make(\"CartPole-v0\")\n",
    "\n",
    "model = DQN(\"MlpPolicy\", env, learning_rate=0.001, buffer_size=1000000, learning_starts=50000, batch_size=32, tau=1.0, gamma=0.99,\n",
    "            train_freq=4, gradient_steps=1, target_update_interval=10000, exploration_fraction=0.1, \n",
    "            exploration_initial_eps=1.0, exploration_final_eps=0.05)\n",
    "\n",
    "model.learn(total_timesteps=10000, log_interval=4)"
   ]
  },
  {
   "cell_type": "code",
   "execution_count": 3,
   "metadata": {},
   "outputs": [
    {
     "data": {
      "text/plain": [
       "[10.0,\n",
       " 8.0,\n",
       " 9.0,\n",
       " 9.0,\n",
       " 8.0,\n",
       " 8.0,\n",
       " 9.0,\n",
       " 10.0,\n",
       " 10.0,\n",
       " 10.0,\n",
       " 9.0,\n",
       " 10.0,\n",
       " 10.0,\n",
       " 9.0,\n",
       " 10.0,\n",
       " 10.0,\n",
       " 8.0,\n",
       " 10.0,\n",
       " 11.0,\n",
       " 10.0,\n",
       " 9.0,\n",
       " 8.0,\n",
       " 10.0,\n",
       " 9.0,\n",
       " 9.0,\n",
       " 8.0,\n",
       " 11.0,\n",
       " 10.0,\n",
       " 10.0,\n",
       " 11.0,\n",
       " 9.0,\n",
       " 9.0,\n",
       " 9.0,\n",
       " 10.0,\n",
       " 9.0,\n",
       " 10.0,\n",
       " 9.0,\n",
       " 9.0,\n",
       " 10.0,\n",
       " 9.0,\n",
       " 9.0,\n",
       " 9.0,\n",
       " 10.0,\n",
       " 9.0,\n",
       " 10.0,\n",
       " 11.0,\n",
       " 10.0,\n",
       " 10.0,\n",
       " 9.0,\n",
       " 9.0,\n",
       " 10.0,\n",
       " 10.0,\n",
       " 9.0,\n",
       " 9.0,\n",
       " 9.0,\n",
       " 8.0,\n",
       " 10.0,\n",
       " 11.0,\n",
       " 10.0,\n",
       " 9.0,\n",
       " 9.0,\n",
       " 9.0,\n",
       " 11.0,\n",
       " 10.0,\n",
       " 10.0,\n",
       " 9.0,\n",
       " 9.0,\n",
       " 8.0,\n",
       " 10.0,\n",
       " 10.0,\n",
       " 8.0,\n",
       " 8.0,\n",
       " 10.0,\n",
       " 8.0,\n",
       " 8.0,\n",
       " 9.0,\n",
       " 9.0,\n",
       " 10.0,\n",
       " 8.0,\n",
       " 10.0,\n",
       " 8.0,\n",
       " 10.0,\n",
       " 8.0,\n",
       " 9.0,\n",
       " 9.0,\n",
       " 11.0,\n",
       " 10.0,\n",
       " 10.0,\n",
       " 8.0,\n",
       " 10.0,\n",
       " 8.0,\n",
       " 10.0,\n",
       " 11.0,\n",
       " 10.0,\n",
       " 10.0,\n",
       " 8.0,\n",
       " 9.0,\n",
       " 10.0,\n",
       " 9.0,\n",
       " 9.0]"
      ]
     },
     "execution_count": 3,
     "metadata": {},
     "output_type": "execute_result"
    }
   ],
   "source": [
    "scores = []\n",
    "for i in range(100):\n",
    "    obs = env.reset()\n",
    "    score = 0\n",
    "    done = False\n",
    "    \n",
    "    while not done:\n",
    "        action, _states = model.predict(obs, deterministic=True)\n",
    "        obs, reward, done, info = env.step(action)\n",
    "        score += reward\n",
    "    \n",
    "    scores.append(score)\n",
    "\n",
    "scores"
   ]
  }
 ],
 "metadata": {
  "kernelspec": {
   "display_name": "base",
   "language": "python",
   "name": "python3"
  },
  "language_info": {
   "codemirror_mode": {
    "name": "ipython",
    "version": 3
   },
   "file_extension": ".py",
   "mimetype": "text/x-python",
   "name": "python",
   "nbconvert_exporter": "python",
   "pygments_lexer": "ipython3",
   "version": "3.9.12"
  },
  "orig_nbformat": 4,
  "vscode": {
   "interpreter": {
    "hash": "20a9e06a1eee47c4abbed4ec8225ad91d78d9800d202b71b6b0a6e47016c6abd"
   }
  }
 },
 "nbformat": 4,
 "nbformat_minor": 2
}
