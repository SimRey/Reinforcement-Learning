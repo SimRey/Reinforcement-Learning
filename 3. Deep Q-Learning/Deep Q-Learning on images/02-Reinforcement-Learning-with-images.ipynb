{
 "cells": [
  {
   "cell_type": "markdown",
   "id": "059bceb6",
   "metadata": {},
   "source": [
    "## <center>Reinforcement Learning on Images</center>"
   ]
  },
  {
   "cell_type": "code",
   "execution_count": null,
   "id": "a38915e0",
   "metadata": {},
   "outputs": [],
   "source": [
    "from PIL import Image  # To transform the image in the Processor\n",
    "import numpy as np\n",
    "import gym\n",
    "import matplotlib.pyplot as plt\n",
    "import time\n",
    "\n",
    "# Convolutional Backbone Network\n",
    "from tensorflow.keras.models import Sequential\n",
    "from tensorflow.keras.layers import Dense, Flatten, Conv2D, Permute\n",
    "from tensorflow.keras.optimizers import Adam\n",
    "\n",
    "# Keras-RL\n",
    "from rl.agents.dqn import DQNAgent\n",
    "from rl.policy import LinearAnnealedPolicy, EpsGreedyQPolicy\n",
    "from rl.memory import SequentialMemory\n",
    "from rl.core import Processor\n",
    "from rl.callbacks import ModelIntervalCheckpoint"
   ]
  },
  {
   "cell_type": "markdown",
   "id": "d8ed9411",
   "metadata": {},
   "source": [
    "### Exploring the model"
   ]
  },
  {
   "cell_type": "code",
   "execution_count": null,
   "id": "184af2c2",
   "metadata": {},
   "outputs": [],
   "source": [
    "env = gym.make(\"BreakoutDeterministic-v4\")\n",
    "env.reset()  \n",
    "for _ in range(5):\n",
    "    env.render(mode=\"human\") \n",
    "    action = env.action_space.sample()  \n",
    "    env.step(action)  \n",
    "    time.sleep(0.5)\n",
    "env.close()"
   ]
  },
  {
   "cell_type": "code",
   "execution_count": null,
   "id": "dc02a103",
   "metadata": {},
   "outputs": [],
   "source": [
    "# HYPERPARAMETERS\n",
    "IMG_SHAPE = (84, 84)\n",
    "WINDOW_LENGTH = 4\n",
    "num_actions = env.action_space.n"
   ]
  },
  {
   "cell_type": "markdown",
   "id": "4343b25d",
   "metadata": {},
   "source": [
    "### Building the model"
   ]
  },
  {
   "cell_type": "markdown",
   "id": "df61cf88",
   "metadata": {},
   "source": [
    "Based on those settings we create our processor. It is the same processor as in the last notebook, with the addition that it standardizes the data into the [0, 1] intervall which often decreases the necessary training time. <br />\n",
    "We perform this standardization routine in the process_state_batch function, which is only executed on the current batch and not on the complete replay memory which decreases RAM usage by a factor of 4.\n",
    "Additionally we clip the reward in the intervall [-1, 1] which might speed up the training"
   ]
  },
  {
   "cell_type": "code",
   "execution_count": null,
   "id": "2d519049",
   "metadata": {},
   "outputs": [],
   "source": [
    "class ImageProcessor(Processor):\n",
    "    def process_observation(self, observation):\n",
    "        # First convert the numpy array to a PIL Image\n",
    "        img = Image.fromarray(observation)\n",
    "        # Then resize the image\n",
    "        img = img.resize(IMG_SHAPE)\n",
    "        # And convert it to grayscale  (The L stands for luminance)\n",
    "        img = img.convert(\"L\")\n",
    "        # Convert the image back to a numpy array and finally return the image\n",
    "        img = np.array(img)\n",
    "        # Normalization of the image into the intervall [0,1] to support training\n",
    "        img = img.astype('float32') / 255.0\n",
    "                \n",
    "        return img\n",
    "\n",
    "    def process_reward(self, reward):\n",
    "        return np.clip(reward, -1., 1.)\n"
   ]
  },
  {
   "cell_type": "code",
   "execution_count": null,
   "id": "9e1d22e0",
   "metadata": {},
   "outputs": [],
   "source": [
    "input_shape = (WINDOW_LENGTH,) + IMG_SHAPE\n",
    "input_shape"
   ]
  },
  {
   "cell_type": "markdown",
   "id": "c3b0c611",
   "metadata": {},
   "source": [
    "As our input consists of 4 consecutive frames, each having the shape $(84 \\times 84)$, the input to the network has the shape $(84 \\times 84 \\times 4)$.\n",
    "But as the Convolutional Layers expect our input to be of shape $(4 \\times 84 \\times 84)$ we add a permute layer at the beginning to swap the channels\n"
   ]
  },
  {
   "cell_type": "code",
   "execution_count": null,
   "id": "d936bbf1",
   "metadata": {},
   "outputs": [],
   "source": [
    "model = Sequential()\n",
    "model.add(Permute((2, 3, 1), input_shape=input_shape)) # 0 not used as it is used as a placeholder for the batch dimension\n",
    "\n",
    "model.add(Conv2D(filters=32, \n",
    "                       kernel_size=(8, 8), \n",
    "                       strides=(4, 4),\n",
    "                       padding='valid',\n",
    "                       activation=\"relu\",\n",
    "                       kernel_initializer='he_normal') # Gives a better perfomance, used in CNN\n",
    "                       )\n",
    "model.add(Conv2D(filters=64, kernel_size=(4, 4), strides=(2, 2), padding='valid',\n",
    "                       activation=\"relu\", kernel_initializer='he_normal'))\n",
    "\n",
    "model.add(Conv2D(filters=64, kernel_size=(3, 3), strides=(1, 1), padding='valid',\n",
    "                       activation=\"relu\", kernel_initializer='he_normal'))\n",
    "\n",
    "model.add(Flatten())\n",
    "model.add(Dense(512, activation=\"relu\"))\n",
    "model.add(Dense(num_actions, activation=\"linear\"))\n",
    "print(model.summary())"
   ]
  },
  {
   "cell_type": "markdown",
   "id": "4d5e3a30",
   "metadata": {},
   "source": [
    "#### Definition of some parameters"
   ]
  },
  {
   "cell_type": "code",
   "execution_count": null,
   "id": "b4a465d5",
   "metadata": {},
   "outputs": [],
   "source": [
    "memory = SequentialMemory(limit=1000000, window_length=WINDOW_LENGTH)\n",
    "processor = ImageProcessor()\n",
    "\n",
    "# We use again a LinearAnnealedPolicy to implement the epsilon greedy action selection with decaying epsilon. \n",
    "# As we need to train for at least a million steps, we set the number of steps to 1,000,000\n",
    "policy = LinearAnnealedPolicy(EpsGreedyQPolicy(), attr='eps', value_max=1.0, value_min=0.1, value_test=0.05,\n",
    "                              nb_steps=1000000)\n"
   ]
  },
  {
   "cell_type": "markdown",
   "id": "e2437a17",
   "metadata": {},
   "source": [
    "Finally we define the agent and compile it. The agent is defined in the same way as in the previous lectures with an additional train_interval of 4 (we only train on every 4th step). <br />\n",
    "Besides that we clip delta (the error) to 1.<br />\n",
    "Both, clipping and train_interval often increase the result"
   ]
  },
  {
   "cell_type": "code",
   "execution_count": null,
   "id": "dcb65474",
   "metadata": {},
   "outputs": [],
   "source": [
    "dqn = DQNAgent(model=model, \n",
    "               nb_actions=num_actions, \n",
    "               policy=policy, \n",
    "               memory=memory,\n",
    "               processor=processor, \n",
    "               nb_steps_warmup=50000, \n",
    "               gamma=0.99, \n",
    "               target_model_update=10000,\n",
    "               batch_size=128,\n",
    "               train_interval=WINDOW_LENGTH, \n",
    "               delta_clip=1)\n",
    "\n",
    "dqn.compile(Adam(learning_rate=0.00025), metrics=['mae'])"
   ]
  },
  {
   "cell_type": "markdown",
   "id": "c7a596e6",
   "metadata": {},
   "source": [
    "### Training"
   ]
  },
  {
   "cell_type": "markdown",
   "id": "565f9da2",
   "metadata": {},
   "source": [
    "As the training might take several hours, we store our current model each 500,000 steps. <br />\n",
    "We can use the *ModelIntervalCheckpoint(checkpoint_name, interval)* to do so and store it in a callback variable which we pass to the fit method as a callback"
   ]
  },
  {
   "cell_type": "code",
   "execution_count": null,
   "id": "0b1967bb",
   "metadata": {},
   "outputs": [],
   "source": [
    "weights_filename = 'weights.h5f'\n",
    "checkpoint_weights_filename = 'dqn_' + 'weights_{step}.h5f'\n",
    "checkpoint_callback = ModelIntervalCheckpoint(checkpoint_weights_filename, interval=500000)"
   ]
  },
  {
   "cell_type": "code",
   "execution_count": null,
   "id": "d754ff2f",
   "metadata": {},
   "outputs": [],
   "source": [
    "dqn.fit(env, nb_steps=1500000, callbacks=[checkpoint_callback], log_interval=10000, visualize=False)\n",
    "\n",
    "# After training is done, we save the final weights one more time.\n",
    "dqn.save_weights(weights_filename, overwrite=True)"
   ]
  },
  {
   "cell_type": "code",
   "execution_count": null,
   "id": "6c76a4b7",
   "metadata": {},
   "outputs": [],
   "source": [
    "dqn.test(env, nb_episodes=5, visualize=True)"
   ]
  },
  {
   "cell_type": "markdown",
   "id": "8d008e04",
   "metadata": {},
   "source": [
    "If you only want to load your model for evaluation, you can use the exact same code from above without calling **fit()**. <br />\n",
    "You can also leave out the warmup steps, gamma and the targe model update variables when defining the DQNAgent as they are only needed for training."
   ]
  },
  {
   "cell_type": "code",
   "execution_count": null,
   "id": "04f6059d",
   "metadata": {},
   "outputs": [],
   "source": [
    "# Load the weights\n",
    "model.load_weights(\"name\")\n",
    "\n",
    "#You can chose an arbitrary policy for evaluation, in this case it's better a small value to ensure explotation\n",
    "policy = EpsGreedyQPolicy(0.1)\n",
    "\n",
    "\n",
    "# Initialize the DQNAgent with the new model and updated policy and compile it\n",
    "dqn = DQNAgent(model=model, nb_actions=num_actions, policy=policy, memory=memory,\n",
    "               processor=processor)\n",
    "dqn.compile(Adam(lr=.00025), metrics=['mae'])\n",
    "\n",
    "dqn.test(env, nb_episodes=5, visualize=True)"
   ]
  }
 ],
 "metadata": {
  "kernelspec": {
   "display_name": "Python 3.9.12 ('base')",
   "language": "python",
   "name": "python3"
  },
  "language_info": {
   "codemirror_mode": {
    "name": "ipython",
    "version": 3
   },
   "file_extension": ".py",
   "mimetype": "text/x-python",
   "name": "python",
   "nbconvert_exporter": "python",
   "pygments_lexer": "ipython3",
   "version": "3.9.12"
  },
  "vscode": {
   "interpreter": {
    "hash": "20a9e06a1eee47c4abbed4ec8225ad91d78d9800d202b71b6b0a6e47016c6abd"
   }
  }
 },
 "nbformat": 4,
 "nbformat_minor": 5
}
