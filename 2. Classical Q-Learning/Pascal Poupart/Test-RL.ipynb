{
 "cells": [
  {
   "cell_type": "markdown",
   "metadata": {},
   "source": [
    "## Test evaluation of RL.py\n",
    "\n",
    "In the following notebook the class RL will be tested with some random examples."
   ]
  },
  {
   "cell_type": "code",
   "execution_count": 1,
   "metadata": {},
   "outputs": [],
   "source": [
    "   import MDP, RL\n",
    "   import numpy as np"
   ]
  },
  {
   "cell_type": "code",
   "execution_count": 2,
   "metadata": {},
   "outputs": [],
   "source": [
    "''' Construct simple MDP as described in Lecture 2a Slides 13-14'''\n",
    "T = np.array([[[0.5,0.5,0,0],[0,1,0,0],[0.5,0.5,0,0],[0,1,0,0]],[[1,0,0,0],[0.5,0,0,0.5],[0.5,0,0.5,0],[0,0,0.5,0.5]]])\n",
    "R = np.array([[0,0,10,10],[0,0,10,10]])\n",
    "discount = 0.9        \n",
    "mdp = MDP.MDP(T,R,discount)\n",
    "rlProblem = RL.RL(mdp,np.random.normal)"
   ]
  },
  {
   "cell_type": "code",
   "execution_count": 3,
   "metadata": {},
   "outputs": [
    {
     "name": "stdout",
     "output_type": "stream",
     "text": [
      "\n",
      "Q-learning results\n",
      "[[18.17888576 21.26405655 28.09470146 31.26789751]\n",
      " [14.91112013 25.30165955 30.57715383 41.06913399]]\n",
      "[0 1 1 1]\n"
     ]
    }
   ],
   "source": [
    "# Test Q-learning \n",
    "[Q,policy] = rlProblem.qLearning(s0=0,initialQ=np.zeros([mdp.nActions,mdp.nStates]),nEpisodes=1000,nSteps=100,epsilon=0.3)\n",
    "print(\"\\nQ-learning results\")\n",
    "print(Q)\n",
    "print(policy)"
   ]
  }
 ],
 "metadata": {
  "kernelspec": {
   "display_name": "Python 3.9.12 ('base')",
   "language": "python",
   "name": "python3"
  },
  "language_info": {
   "codemirror_mode": {
    "name": "ipython",
    "version": 3
   },
   "file_extension": ".py",
   "mimetype": "text/x-python",
   "name": "python",
   "nbconvert_exporter": "python",
   "pygments_lexer": "ipython3",
   "version": "3.9.12"
  },
  "orig_nbformat": 4,
  "vscode": {
   "interpreter": {
    "hash": "20a9e06a1eee47c4abbed4ec8225ad91d78d9800d202b71b6b0a6e47016c6abd"
   }
  }
 },
 "nbformat": 4,
 "nbformat_minor": 2
}
