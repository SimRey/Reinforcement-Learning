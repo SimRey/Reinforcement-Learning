{
 "cells": [
  {
   "cell_type": "markdown",
   "id": "green-recommendation",
   "metadata": {},
   "source": [
    "## <center> Q-Learning - Continuous Actions</center>\n"
   ]
  },
  {
   "cell_type": "code",
   "execution_count": 1,
   "id": "billion-funds",
   "metadata": {},
   "outputs": [],
   "source": [
    "import time \n",
    "import gym\n",
    "import numpy as np \n",
    "from IPython.display import clear_output\n",
    "import matplotlib.pyplot as plt"
   ]
  },
  {
   "attachments": {},
   "cell_type": "markdown",
   "id": "d1d8f004",
   "metadata": {},
   "source": [
    "#### Part 1: \n",
    "\n",
    "Environment Setup - Cart Pole"
   ]
  },
  {
   "cell_type": "markdown",
   "id": "fantastic-division",
   "metadata": {},
   "source": [
    "Let us take a look at the possible actions.\n",
    "You can find them here: https://github.com/openai/gym/blob/master/gym/envs/classic_control/cartpole.py\n",
    "As we can see, there are 4 observations:\n",
    "* Cart Position (-4.8 to 4.8)\n",
    "* Cart Velocity $(-\\infty \\text{ to } \\infty)$\n",
    "* Pole Angle (-0.418 to 0.418) rad or (-24 to 24) degrees\n",
    "* Pole Angular Velocity $(-\\infty \\text{ to } \\infty)$\n",
    "\n",
    "and two actions:\n",
    "* 0 - Move to the left\n",
    "* 1 - Move to the right"
   ]
  },
  {
   "cell_type": "code",
   "execution_count": 2,
   "id": "southern-science",
   "metadata": {},
   "outputs": [
    {
     "name": "stdout",
     "output_type": "stream",
     "text": [
      "    Cart Position: 0.036386872188532364\n",
      "    Cart Velocity: -0.016412460832736814\n",
      "    Pole Angle: -0.21548407037169892\n",
      "    Pole Velocity: -0.7843520120971671\n",
      "    Reward: 1.0\n",
      "    Done: True\n"
     ]
    }
   ],
   "source": [
    "env = gym.make(\"CartPole-v0\")  # We want to solve the CartPole task\n",
    "env.reset()  # Reset to initial state\n",
    "for _ in range(100):\n",
    "    clear_output(wait=True) # Clears the previous output\n",
    "    env.render(mode=\"human\")  # Render on the screen\n",
    "\n",
    "    action = env.action_space.sample()  # chose a random action\n",
    "    observation, reward, done, *info = env.step(action)  # Perform random action on the environment\n",
    "\n",
    "    cart_p, cart_v, pole_a, pole_v = observation\n",
    "\n",
    "    print(f\"\"\"    Cart Position: {cart_p}\n",
    "    Cart Velocity: {cart_v}\n",
    "    Pole Angle: {pole_a}\n",
    "    Pole Velocity: {pole_v}\n",
    "    Reward: {reward}\n",
    "    Done: {done}\"\"\")\n",
    "\n",
    "    time.sleep(0.1)\n",
    "\n",
    "    if done:\n",
    "        break\n",
    "\n",
    "env.close()  # dont forget to close the environment"
   ]
  },
  {
   "attachments": {},
   "cell_type": "markdown",
   "id": "faa7f4b7",
   "metadata": {},
   "source": [
    "#### Part 2:\n",
    "Discretization for Q Table"
   ]
  },
  {
   "cell_type": "markdown",
   "id": "scheduled-glasgow",
   "metadata": {},
   "source": [
    "We need to solve one problem before we can start working on the implementation:\n",
    "The Q-Learning algorithm relies on the creation of discrete Q-Tables but our environment returns continuous values (angle and velocity).\n",
    "So we need to discretize our observation, i.e we assign each observation to a discrete state.\n",
    "To do so, we need to define a number of classes for each observation in order to assign each observation to one of those classes.<br />\n",
    "In fact those classes are called *bins*\n",
    "\n",
    "Let us just say that we want to allow 10 possible observations, thus each continuous observation is put into one of the 10 bins. For the sake of convenience, we dont use the range $-\\infty$ to $\\infty$ for the velocity, but -5 to 5.\n"
   ]
  },
  {
   "cell_type": "code",
   "execution_count": 3,
   "id": "912d3899",
   "metadata": {},
   "outputs": [
    {
     "name": "stdout",
     "output_type": "stream",
     "text": [
      "Bins for Cart Position: [-4.8        -3.73333333 -2.66666667 -1.6        -0.53333333  0.53333333\n",
      "  1.6         2.66666667  3.73333333  4.8       ]\n",
      "Bins for Cart Velocity: [-5.         -3.88888889 -2.77777778 -1.66666667 -0.55555556  0.55555556\n",
      "  1.66666667  2.77777778  3.88888889  5.        ]\n",
      "Bins for Pole Angle: [-0.418      -0.32511111 -0.23222222 -0.13933333 -0.04644444  0.04644444\n",
      "  0.13933333  0.23222222  0.32511111  0.418     ]\n",
      "Bins for Pole Angular Velocity : [-5.         -3.88888889 -2.77777778 -1.66666667 -0.55555556  0.55555556\n",
      "  1.66666667  2.77777778  3.88888889  5.        ]\n"
     ]
    }
   ],
   "source": [
    "NUM_BINS = 10\n",
    "\n",
    "bins_cart_p = np.linspace(-4.8, 4.8, NUM_BINS)  # bins for the cart position\n",
    "bins_cart_v = np.linspace(-5, 5, NUM_BINS)  # bins for the cart velocity\n",
    "bins_pole_a = np.linspace(-0.418, 0.418, NUM_BINS)  # bins for the pole angle\n",
    "bins_pole_v = np.linspace(-5, 5, NUM_BINS)  # bins for the pole angular velocity\n",
    "\n",
    "BINS = np.array([bins_cart_p, bins_cart_v, bins_pole_a, bins_pole_v])  # merge them\n",
    "\n",
    "\n",
    "print(f\"Bins for Cart Position: {BINS[0]}\")\n",
    "print(f\"Bins for Cart Velocity: {BINS[1]}\")\n",
    "print(f\"Bins for Pole Angle: {BINS[2]}\")\n",
    "print(f\"Bins for Pole Angular Velocity : {BINS[3]}\")"
   ]
  },
  {
   "attachments": {},
   "cell_type": "markdown",
   "id": "7d4e7cf7",
   "metadata": {},
   "source": [
    "**Mapping from Continuous to Discrete**\n",
    "\n",
    "We now need to write a function which maps each observation to one of those values. Luckily numpy provides the function *digitize(data, bins)* for us which takes care of the mapping. \n",
    "\n",
    "*np.digitize()* returns the index of the bin which is closest to the data to be mapped"
   ]
  },
  {
   "cell_type": "code",
   "execution_count": 4,
   "id": "authorized-collective",
   "metadata": {},
   "outputs": [
    {
     "name": "stdout",
     "output_type": "stream",
     "text": [
      "0\n",
      "1\n",
      "2\n",
      "3\n",
      "4\n",
      "5\n",
      "6\n"
     ]
    }
   ],
   "source": [
    "### Digitize Demo ###\n",
    "demo_bin = [0, 1, 2, 3, 4, 5]\n",
    "\n",
    "# How bins are read:\n",
    "# Bin 0: (-inf, 0) --> output 0\n",
    "\n",
    "# Bin 1: [0, 1) --> output 1\n",
    "# Bin 2: [1, 2) --> output 2\n",
    "# Bin 3: [2, 3) --> output 3\n",
    "# Bin 4: [3, 4) --> output 4\n",
    "# Bin 5: [4, 5) --> output 5\n",
    "\n",
    "# Bin 6: [5, inf) --> output 6\n",
    "\n",
    "demo_data = [-0.1, 0.1, 1.1, 2.1, 3.1, 4.1, 5.1]\n",
    "for val in demo_data:\n",
    "    print(np.digitize(val, demo_bin))"
   ]
  },
  {
   "cell_type": "markdown",
   "id": "479bfea8",
   "metadata": {},
   "source": [
    "Knowing how np.digitize works, the data can be discretized"
   ]
  },
  {
   "cell_type": "code",
   "execution_count": 5,
   "id": "described-democracy",
   "metadata": {},
   "outputs": [],
   "source": [
    "def binner(observations, bins):\n",
    "    binned_observations = []\n",
    "\n",
    "    for ind, observation in enumerate(observations):\n",
    "        binned_val = np.digitize(observation, bins[ind])\n",
    "        binned_observations.append(binned_val)\n",
    "    \n",
    "    return tuple(binned_observations) # Important for later indexing"
   ]
  },
  {
   "cell_type": "markdown",
   "id": "valuable-calcium",
   "metadata": {},
   "source": [
    "Let us test our function"
   ]
  },
  {
   "cell_type": "code",
   "execution_count": 6,
   "id": "characteristic-address",
   "metadata": {},
   "outputs": [
    {
     "name": "stdout",
     "output_type": "stream",
     "text": [
      "Cart Position: 0.020747628669245927\n",
      "Cart Velocity: 0.004540362348341376\n",
      "Pole Angle: 0.003714830895723463\n",
      "Pole Angular Velocity : 0.04623152192483461\n",
      "(5, 5, 5, 5)\n"
     ]
    }
   ],
   "source": [
    "env = gym.make(\"CartPole-v1\") \n",
    "observation = env.reset()  # Remember that env.reset() returns the intial observation\n",
    "\n",
    "print(f\"Cart Position: {observation[0]}\")\n",
    "print(f\"Cart Velocity: {observation[1]}\")\n",
    "print(f\"Pole Angle: {observation[2]}\")\n",
    "print(f\"Pole Angular Velocity : {observation[3]}\")\n",
    "\n",
    "env.close()\n",
    "\n",
    "mapped_observation = binner(observation, BINS)\n",
    "print(mapped_observation)"
   ]
  },
  {
   "cell_type": "markdown",
   "id": "assisted-findings",
   "metadata": {},
   "source": [
    "(5, 5, 5, 5) means that each observation is assigned to bin 5.\n",
    "Lets check if that is correct"
   ]
  },
  {
   "cell_type": "markdown",
   "id": "dramatic-strength",
   "metadata": {},
   "source": [
    "Bin 5 contains the values 0.53333/0.55555 for all observations which leads to bin 5 for each individual observation! <br />\n",
    "But another test might be a good idea.\n",
    "Lets define the array: <br />\n",
    "test = (-5, 5, 0.2, -4). <br />\n",
    "If our function works correctly, it should output:(0, 10, 7, 1) as those are the bins corresponding to those values"
   ]
  },
  {
   "cell_type": "code",
   "execution_count": 7,
   "id": "liable-richardson",
   "metadata": {},
   "outputs": [
    {
     "data": {
      "text/plain": [
       "(0, 10, 7, 1)"
      ]
     },
     "execution_count": 7,
     "metadata": {},
     "output_type": "execute_result"
    }
   ],
   "source": [
    "test = (-5, 5, 0.2, -4)\n",
    "binner(test, BINS)  # Nice!"
   ]
  },
  {
   "cell_type": "markdown",
   "id": "structural-contest",
   "metadata": {},
   "source": [
    "Now that we validated the functionality of our function it is time to move on with the Q-Learning algorithm. <br />\n",
    "Let us create the Q-Table:\n",
    "Remember that the Q-Table has a cell for each permutation of state-action pair. <br />\n",
    "As there are 4 possible observations, (with 10 bins each) and 2 actions this yields that:\n",
    "$10*10*10*10*2$ cells are needed to cover all permutations\n",
    "\n",
    "We can create the Q-Table by using np.zeros(shape)"
   ]
  },
  {
   "cell_type": "code",
   "execution_count": 8,
   "id": "latter-header",
   "metadata": {},
   "outputs": [
    {
     "name": "stdout",
     "output_type": "stream",
     "text": [
      "(10, 10, 10, 10, 2)\n"
     ]
    }
   ],
   "source": [
    "q_table_shape = (NUM_BINS, NUM_BINS, NUM_BINS, NUM_BINS, env.action_space.n)\n",
    "q_table = np.zeros(q_table_shape)\n",
    "print(q_table.shape)"
   ]
  },
  {
   "attachments": {},
   "cell_type": "markdown",
   "id": "c79c2401",
   "metadata": {},
   "source": [
    "#### Part 3\n",
    "Constants and Hyperparameters"
   ]
  },
  {
   "cell_type": "code",
   "execution_count": 9,
   "id": "7c272133",
   "metadata": {},
   "outputs": [],
   "source": [
    "EPOCHS = 20000\n",
    "ALPHA = 0.8\n",
    "GAMMA = 0.9"
   ]
  },
  {
   "attachments": {},
   "cell_type": "markdown",
   "id": "dense-saturday",
   "metadata": {},
   "source": [
    "#### Part 4\n",
    "Now it is time to dive into the training / Q-Table update methodology."
   ]
  },
  {
   "cell_type": "code",
   "execution_count": 10,
   "id": "51dc156e",
   "metadata": {},
   "outputs": [],
   "source": [
    "def action_selection(epsilon, q_table, discrete_state):\n",
    "    random_number = np.random.random()\n",
    "    \n",
    "    # EXPLOITATION, USE BEST Q(s,a) Value\n",
    "    if random_number > epsilon:\n",
    "        action = np.argmax(q_table[discrete_state])\n",
    "\n",
    "    # EXPLORATION, USE A RANDOM ACTION\n",
    "    else:\n",
    "        action = np.random.randint(0, env.action_space.n)\n",
    "\n",
    "    return action"
   ]
  },
  {
   "cell_type": "code",
   "execution_count": 11,
   "id": "5b899cfa",
   "metadata": {},
   "outputs": [],
   "source": [
    "def q_update(old_q_value, reward, next_optimal_q_value):\n",
    "    new_q = (1-ALPHA)*old_q_value +  ALPHA * (reward + GAMMA * next_optimal_q_value)\n",
    "    return new_q"
   ]
  },
  {
   "cell_type": "code",
   "execution_count": 12,
   "id": "0e468214",
   "metadata": {},
   "outputs": [],
   "source": [
    "BURN_IN = 100\n",
    "epsilon = 1\n",
    "\n",
    "EPSILON_END= 15000\n",
    "EPSILON_REDUCE = 0.0001\n",
    "\n",
    "# Note, this is an alternative to our previous exponential decay, its a linear decay. It's not worse or better, \n",
    "# just an alternative.\n",
    "\n",
    "\n",
    "def reduce_epsilon(epsilon, epoch):\n",
    "    if BURN_IN <= epoch <= EPSILON_END:\n",
    "        # The epsilon starts to decrease right from the start, and once the EPSILON_END is reached, \n",
    "        # the epsilon value remains constant.\n",
    "        epsilon -= EPSILON_REDUCE\n",
    "    \n",
    "    return epsilon"
   ]
  },
  {
   "cell_type": "code",
   "execution_count": 13,
   "id": "93b85a94",
   "metadata": {},
   "outputs": [],
   "source": [
    "def fail(done, points, reward):\n",
    "    if done and points < 150:\n",
    "        # In this case, the agent gets a big penalization if does the job in many steps.\n",
    "        reward = -200\n",
    "\n",
    "    return reward"
   ]
  },
  {
   "attachments": {},
   "cell_type": "markdown",
   "id": "broke-station",
   "metadata": {},
   "source": [
    "##### **Training**"
   ]
  },
  {
   "cell_type": "code",
   "execution_count": 14,
   "id": "989b7cf3",
   "metadata": {},
   "outputs": [
    {
     "data": {
      "text/plain": [
       "<matplotlib.legend.Legend at 0x2419e457fd0>"
      ]
     },
     "execution_count": 14,
     "metadata": {},
     "output_type": "execute_result"
    },
    {
     "data": {
      "image/png": "[encoded data removed]",
      "text/plain": [
       "<Figure size 640x480 with 1 Axes>"
      ]
     },
     "metadata": {},
     "output_type": "display_data"
    }
   ],
   "source": [
    "# Lists\n",
    "points_vec = []  # to store all achieved points\n",
    "mean_points = []  # to store a running mean of the last 30 results\n",
    "\n",
    "\n",
    "# Play 20k games\n",
    "for episode in range(EPOCHS):\n",
    "\n",
    "    # Reset the environment\n",
    "    env = gym.make(\"CartPole-v1\") \n",
    "    state = env.reset()\n",
    "    binned_state = binner(state, BINS)\n",
    "    \n",
    "    done = False  # to stop current run when cartpole falls down   \n",
    "    points = 0  # store result \n",
    "\n",
    "\n",
    "    while not done:\n",
    "        action = action_selection(epsilon, q_table, binned_state)\n",
    "\n",
    "        # Take the action (a) and observe the outcome state(s') and reward (r)\n",
    "        next_state, reward, done, *info = env.step(action)\n",
    "        reward = fail(done, points, reward)  # Check if reward or fail state\n",
    "\n",
    "        # Look up current/old qtable value Q(s_t,a_t)\n",
    "        old_q_value =  q_table[binned_state + (action,)]  # get the old Q-Value from the Q-Table\n",
    "        # In this case the notation binned_state + (action,) appends to the tuple binned_state the action to have a new tuple\n",
    "\n",
    "        # Get the next optimal Q-Value\n",
    "        binned_next_state = binner(next_state, BINS) # map the next observation to the bins\n",
    "        next_optimal_q_value = np.max(q_table[binned_next_state])  \n",
    "\n",
    "        # Update q value\n",
    "        q_updated = q_update(old_q_value, reward, next_optimal_q_value)   \n",
    "\n",
    "        # Update Q Table\n",
    "        q_table[binned_state + (action,)] = q_updated\n",
    "        \n",
    "        # Our new state is state\n",
    "        binned_state = binned_next_state\n",
    "        points += 1\n",
    "\n",
    "    \n",
    "    # Reduce epsilon (because we need less and less exploration)\n",
    "    epsilon = reduce_epsilon(epsilon,episode)\n",
    "\n",
    "\n",
    "    points_vec.append(points)  # log overall achieved points for the current epoch\n",
    "    running_mean = round(np.mean(points_vec[-30:]), 2)  # Compute running mean points over the last 30 epochs\n",
    "    mean_points.append(running_mean)  # and log it\n",
    "\n",
    "\n",
    "env.close()\n",
    "\n",
    "fig, ax = plt.subplots()\n",
    "ax.scatter(np.arange(0, EPOCHS, 1), points_vec)\n",
    "ax.plot(np.arange(0, EPOCHS, 1), points_vec)\n",
    "ax.plot(np.arange(0, EPOCHS, 1), mean_points, label=f\"Running Mean: {running_mean}\")\n",
    "plt.legend()"
   ]
  },
  {
   "attachments": {},
   "cell_type": "markdown",
   "id": "sacred-adventure",
   "metadata": {},
   "source": [
    "#### Part 5.\n",
    "Now it is time for a final evaluation round! Let's see how well our first RL agent performs"
   ]
  },
  {
   "cell_type": "code",
   "execution_count": 15,
   "id": "upset-dictionary",
   "metadata": {},
   "outputs": [
    {
     "name": "stdout",
     "output_type": "stream",
     "text": [
      "You got 210 points!\n"
     ]
    }
   ],
   "source": [
    "env = gym.make(\"CartPole-v1\") \n",
    "observation = env.reset()\n",
    "rewards = 0\n",
    "\n",
    "for _ in range(1000):\n",
    "    env.render(mode=\"human\")\n",
    "    discrete_state = binner(observation, BINS)  # get bins\n",
    "    action = np.argmax(q_table[discrete_state])  # and chose action from the Q-Table\n",
    "    observation, reward, done, *info = env.step(action) # Finally perform the action\n",
    "    rewards+=1\n",
    "    if done:\n",
    "        print(f\"You got {rewards} points!\")\n",
    "        break\n",
    "\n",
    "\n",
    "env.close()"
   ]
  }
 ],
 "metadata": {
  "kernelspec": {
   "display_name": "Python 3.9.12 ('base')",
   "language": "python",
   "name": "python3"
  },
  "language_info": {
   "codemirror_mode": {
    "name": "ipython",
    "version": 3
   },
   "file_extension": ".py",
   "mimetype": "text/x-python",
   "name": "python",
   "nbconvert_exporter": "python",
   "pygments_lexer": "ipython3",
   "version": "3.9.13"
  },
  "vscode": {
   "interpreter": {
    "hash": "20a9e06a1eee47c4abbed4ec8225ad91d78d9800d202b71b6b0a6e47016c6abd"
   }
  }
 },
 "nbformat": 4,
 "nbformat_minor": 5
}
