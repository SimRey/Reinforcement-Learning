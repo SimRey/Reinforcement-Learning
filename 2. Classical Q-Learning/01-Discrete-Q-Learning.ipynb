{
 "cells": [
  {
   "cell_type": "markdown",
   "id": "green-recommendation",
   "metadata": {},
   "source": [
    "## <center> Q-Learning - Discrete Actions</center>\n"
   ]
  },
  {
   "cell_type": "code",
   "execution_count": 1,
   "id": "billion-funds",
   "metadata": {},
   "outputs": [],
   "source": [
    "from IPython.display import clear_output\n",
    "import time\n",
    "import gym\n",
    "import numpy as np\n",
    "import matplotlib.pyplot as plt"
   ]
  },
  {
   "cell_type": "markdown",
   "id": "b461afe9",
   "metadata": {},
   "source": [
    "### PART 1: \n",
    "\n",
    "Setting up Frozen Lake Environment\n",
    "\n",
    "The agent controls the movement of a character in a grid world. Some tiles of the grid are walkable, and others lead to the agent falling into the water. Additionally, the movement direction of the agent is uncertain and only partially depends on the chosen direction. The agent is rewarded for finding a walkable path to a goal tile.\n",
    "\n",
    "The surface is described using a grid like the following:\n",
    "\n",
    "    S | F | F | F\n",
    "    - - - - - - -\n",
    "    F | H | F | H\n",
    "    - - - - - - -\n",
    "    F | F | F | H\n",
    "    - - - - - - -\n",
    "    H | F | F | G  \n",
    "\n",
    "- S: starting point, safe \n",
    "- F: frozen surface, safe)\n",
    "- H: hole, fall to your doom)\n",
    "- G: goal, where the frisbee is located\n",
    "\n",
    "\n",
    "The episode ends when you reach the goal or fall in a hole. You receive a reward of 1 if you reach the goal, and zero otherwise. Link to Environment: https://gym.openai.com/envs/FrozenLake-v0/\n",
    "\n",
    "We will be removing \"slippery\" from the environment, so there is no randomness to the direction. More info: https://github.com/openai/gym/issues/565"
   ]
  },
  {
   "cell_type": "markdown",
   "id": "5b575ac9",
   "metadata": {},
   "source": [
    "----\n",
    "And finally, depending on your computer specs or patience, you can scale the size of the lake up or down:\n",
    "\n",
    "https://stackoverflow.com/questions/55006689/how-to-generate-a-random-frozen-lake-map-in-openai\n",
    "\n",
    "To keep things simply, we'll use the default 4by4 grid, but check out the link above if you're crazy enough to go to some huge N by N grid."
   ]
  },
  {
   "cell_type": "code",
   "execution_count": 2,
   "id": "7227211a",
   "metadata": {},
   "outputs": [],
   "source": [
    "# from gym.envs.toy_text.frozen_lake import generate_random_map\n",
    "\n",
    "# random_map = generate_random_map(size=3, p=0.5)\n"
   ]
  },
  {
   "cell_type": "markdown",
   "id": "a9a433fe",
   "metadata": {},
   "source": [
    "----"
   ]
  },
  {
   "cell_type": "markdown",
   "id": "af3e55db",
   "metadata": {},
   "source": [
    "#### Environment set up"
   ]
  },
  {
   "cell_type": "markdown",
   "id": "e69704fa",
   "metadata": {},
   "source": [
    "**Here we register a new environment, where is_slippery=False.**"
   ]
  },
  {
   "cell_type": "code",
   "execution_count": 3,
   "id": "3cdd8751",
   "metadata": {},
   "outputs": [],
   "source": [
    "from gym.envs.registration import register\n",
    "\n",
    "try:\n",
    "\n",
    "    register(\n",
    "        id='FrozenLakeNotSlippery-v0', # make sure this is a custom name!\n",
    "        entry_point='gym.envs.toy_text:FrozenLakeEnv',\n",
    "        kwargs={'map_name' : '4x4', 'is_slippery': False},\n",
    "        max_episode_steps=100, # if goal not completed stops after this number of episodes\n",
    "        reward_threshold=.8196, # optimum = .8196 --> not useful for binary goals\n",
    "    )\n",
    "except:\n",
    "    print('You probably ran this cell twice, accidentally trying to register a new env with the same id twice.')\n",
    "    print(\"Either change the id, or just continue, knowing your id was already registered\")"
   ]
  },
  {
   "cell_type": "markdown",
   "id": "4f0e9f80",
   "metadata": {},
   "source": [
    "**Let's run it with some random actions.**"
   ]
  },
  {
   "cell_type": "code",
   "execution_count": 4,
   "id": "southern-science",
   "metadata": {},
   "outputs": [
    {
     "name": "stdout",
     "output_type": "stream",
     "text": [
      "\n",
      "\u001b[41mS\u001b[0mFFF\n",
      "FHFH\n",
      "FFFH\n",
      "HFFG\n",
      "\n",
      "  (Left)\n",
      "\u001b[41mS\u001b[0mFFF\n",
      "FHFH\n",
      "FFFH\n",
      "HFFG\n",
      "\n",
      "  (Down)\n",
      "SFFF\n",
      "\u001b[41mF\u001b[0mHFH\n",
      "FFFH\n",
      "HFFG\n",
      "\n",
      "  (Right)\n",
      "SFFF\n",
      "F\u001b[41mH\u001b[0mFH\n",
      "FFFH\n",
      "HFFG\n",
      "\n",
      "  (Right)\n",
      "SFFF\n",
      "F\u001b[41mH\u001b[0mFH\n",
      "FFFH\n",
      "HFFG\n",
      "\n"
     ]
    }
   ],
   "source": [
    "env = gym.make(\"FrozenLakeNotSlippery-v0\")  # Load FrozenLake\n",
    "env.reset()  # Reset to initial state\n",
    "for _ in range(5):\n",
    "    a = env.render(mode=\"ansi\")  # Render on the screen\n",
    "    print(a)\n",
    "    action = env.action_space.sample()  # chose a random action\n",
    "    env.step(action)  # Perform random action on the environment\n",
    "    time.sleep(0.5)\n",
    "env.close()  # dont forget to close the environment"
   ]
  },
  {
   "cell_type": "markdown",
   "id": "51f3e94c",
   "metadata": {},
   "source": [
    "#### Cleaning the output through each iteration"
   ]
  },
  {
   "cell_type": "code",
   "execution_count": 5,
   "id": "a42725f3",
   "metadata": {},
   "outputs": [
    {
     "name": "stdout",
     "output_type": "stream",
     "text": [
      "  (Up)\n",
      "\u001b[41mS\u001b[0mFFF\n",
      "FHFH\n",
      "FFFH\n",
      "HFFG\n",
      "\n"
     ]
    }
   ],
   "source": [
    "env = gym.make(\"FrozenLakeNotSlippery-v0\")  # Load FrozenLake\n",
    "env.reset()\n",
    "\n",
    "for _ in range(5):\n",
    "    clear_output(wait=True) # Clears the previous output\n",
    "    a = env.render(mode=\"ansi\") \n",
    "    print(a)\n",
    "    action = env.action_space.sample()  \n",
    "    env.step(action) \n",
    "    time.sleep(0.5)\n",
    "env.close()  "
   ]
  },
  {
   "cell_type": "markdown",
   "id": "05ad42fc",
   "metadata": {},
   "source": [
    "#### Gameplay"
   ]
  },
  {
   "cell_type": "code",
   "execution_count": 6,
   "id": "746a6b3a",
   "metadata": {},
   "outputs": [],
   "source": [
    "def asdw():\n",
    "    '''\n",
    "    This function gets the key press for gym action choice\n",
    "    '''\n",
    "    k = input()\n",
    "    if k == 'a':\n",
    "        action = 0\n",
    "    if k == 's':\n",
    "        action = 1\n",
    "    if k == 'd':\n",
    "        action = 2\n",
    "    if k == 'w':\n",
    "        action = 3\n",
    "        \n",
    "    return action"
   ]
  },
  {
   "cell_type": "code",
   "execution_count": 7,
   "id": "9f1060c8",
   "metadata": {},
   "outputs": [
    {
     "name": "stdout",
     "output_type": "stream",
     "text": [
      "Game Done\n",
      "Reward: 0.0\n"
     ]
    }
   ],
   "source": [
    "env = gym.make(\"FrozenLakeNotSlippery-v0\")  # Load FrozenLake\n",
    "env.reset()  # Reset to initial state\n",
    "for _ in range(10):\n",
    "    env.render(mode=\"human\")  # Render on the screen\n",
    "    clear_output(wait=True)\n",
    "    action = asdw()  # chose an action\n",
    "    observation, reward, done, info = env.step(action)  # Perform random action on the environment\n",
    "    \n",
    "    if done:\n",
    "        print(\"Game Done\")\n",
    "        print(f\"Reward: {reward}\")\n",
    "        break\n",
    "env.close()  # dont forget to close the environment"
   ]
  },
  {
   "cell_type": "markdown",
   "id": "scheduled-glasgow",
   "metadata": {},
   "source": [
    "### PART 2: \n",
    "\n",
    "Creating the Q-Learning Table"
   ]
  },
  {
   "cell_type": "markdown",
   "id": "structural-contest",
   "metadata": {},
   "source": [
    "Now that we validated the functionality of our function it is time to move on with the Q-Learning algorithm. \n",
    "\n",
    "Recall our Table is essentially a mapping of all possible state, action pairs and the expected reward for taking an action at a particular state that we will keep updating.\n",
    "\n",
    "\n",
    "$$Q(s_t,a_t)$$"
   ]
  },
  {
   "cell_type": "markdown",
   "id": "542e0f83",
   "metadata": {},
   "source": [
    "For our simple discrete Frozen Lake problem, this means we have 4 actions for columns, and 16 possible states (player location on the 4 by 4 grid). So our table will look like:"
   ]
  },
  {
   "cell_type": "markdown",
   "id": "42fa8c3e",
   "metadata": {},
   "source": [
    "<table style=\"width:100%\">\n",
    "  <tr>\n",
    "      <th></th>\n",
    "    <th>A0 - LEFT</th>\n",
    "    <th>A1 - DOWN</th>\n",
    "    <th>A2 - RIGHT</th>\n",
    "    <th>A3 - UP</th>\n",
    "  </tr>\n",
    "  <tr>\n",
    "    <td><strong>State 0</strong></td>\n",
    "    <td>Q(s,a)</td>\n",
    "    <td>Q(s,a)</td>\n",
    "      <td>Q(s,a)</td>\n",
    "      <td>Q(s,a)</td>\n",
    "  </tr>\n",
    "  <tr>\n",
    "      <td><strong>State 1</strong></td>\n",
    "    <td>Q(s,a)</td>\n",
    "    <td>Q(s,a)</td>\n",
    "    <td>Q(s,a)</td>\n",
    "      <td>Q(s,a)</td>\n",
    "  </tr>\n",
    "    <tr>\n",
    "      <td><strong>State ...</strong></td>\n",
    "    <td>...</td>\n",
    "    <td>...</td>\n",
    "    <td>...</td>\n",
    "        <td>...</td>\n",
    "  </tr>\n",
    "    <tr>\n",
    "      <td><strong>State 15</strong></td>\n",
    "    <td>Q(s,a)</td>\n",
    "    <td>Q(s,a)</td>\n",
    "    <td>Q(s,a)</td>\n",
    "        <td>Q(s,a)</td>\n",
    "  </tr>\n",
    "</table>"
   ]
  },
  {
   "cell_type": "code",
   "execution_count": 8,
   "id": "2ec3a21f",
   "metadata": {},
   "outputs": [],
   "source": [
    "action_size = env.action_space.n\n",
    "state_size = env.observation_space.n"
   ]
  },
  {
   "cell_type": "markdown",
   "id": "c14e800e",
   "metadata": {},
   "source": [
    "#### Initial Q-Table"
   ]
  },
  {
   "cell_type": "code",
   "execution_count": 9,
   "id": "latter-header",
   "metadata": {},
   "outputs": [
    {
     "data": {
      "text/plain": [
       "array([[0., 0., 0., 0.],\n",
       "       [0., 0., 0., 0.],\n",
       "       [0., 0., 0., 0.],\n",
       "       [0., 0., 0., 0.],\n",
       "       [0., 0., 0., 0.],\n",
       "       [0., 0., 0., 0.],\n",
       "       [0., 0., 0., 0.],\n",
       "       [0., 0., 0., 0.],\n",
       "       [0., 0., 0., 0.],\n",
       "       [0., 0., 0., 0.],\n",
       "       [0., 0., 0., 0.],\n",
       "       [0., 0., 0., 0.],\n",
       "       [0., 0., 0., 0.],\n",
       "       [0., 0., 0., 0.],\n",
       "       [0., 0., 0., 0.],\n",
       "       [0., 0., 0., 0.]])"
      ]
     },
     "execution_count": 9,
     "metadata": {},
     "output_type": "execute_result"
    }
   ],
   "source": [
    "# Start with very small values for all our Q(s,a)\n",
    "q_table = np.zeros([state_size, action_size])\n",
    "q_table"
   ]
  },
  {
   "cell_type": "code",
   "execution_count": 10,
   "id": "45fe3323",
   "metadata": {},
   "outputs": [
    {
     "data": {
      "text/plain": [
       "(16, 4)"
      ]
     },
     "execution_count": 10,
     "metadata": {},
     "output_type": "execute_result"
    }
   ],
   "source": [
    "q_table.shape"
   ]
  },
  {
   "cell_type": "markdown",
   "id": "55f9f3fa",
   "metadata": {},
   "source": [
    "### PART 3:\n",
    "\n",
    "Hyperparameters\n",
    "\n",
    "The Q-Learning update functions will require hyperparameters. we'll define them here. Often the best place to choose a good starting value is reading publications or through experimentation. Unfortunately, its very difficult to give general advice, as most environments are radically different to each other, and often hyperparameter tuning is required.\n"
   ]
  },
  {
   "cell_type": "code",
   "execution_count": 11,
   "id": "8666bae0",
   "metadata": {},
   "outputs": [],
   "source": [
    "# It is common to leave Hyperparameters in ALL CAPS to easily locate them\n",
    "\n",
    "EPOCHS=20000  # number of epochs/episodes to train for\n",
    "ALPHA = 0.8 # aka the learning rate\n",
    "GAMMA = 0.95 # aka the discount rate"
   ]
  },
  {
   "cell_type": "markdown",
   "id": "60fdd6e6",
   "metadata": {},
   "source": [
    "**Exploration vs. Exploitation Parameters**\n",
    "\n",
    "Basically how fast do we reduce epsilon. Reduce too fast, agent won't have enough time to learn. Reduce too slow, you're wasting time picking random actions. Key here is that these value help balance exploration (random choice) versus explotation (always picking what works for that Q(s,a). It's a tough balance!"
   ]
  },
  {
   "cell_type": "code",
   "execution_count": 12,
   "id": "cd70a2a4",
   "metadata": {},
   "outputs": [],
   "source": [
    "# Exploration vs. Exploitation parameters\n",
    "epsilon = 1.0                 # Exploration rate\n",
    "max_epsilon = 1.0             # Exploration probability at start\n",
    "min_epsilon = 0.01            # Minimum exploration probability \n",
    "decay_rate = 0.001            # Exponential decay rate for exploration prob"
   ]
  },
  {
   "cell_type": "markdown",
   "id": "31d29c33",
   "metadata": {},
   "source": [
    "### PART 4:\n",
    "Q-Table Update Functions Methodology"
   ]
  },
  {
   "cell_type": "markdown",
   "id": "dense-saturday",
   "metadata": {},
   "source": [
    "Now it is time to dive into the training / Q-Table update methodology. First we will define some functions needed for training phase:\n",
    "\n",
    "1. Action selection:\n",
    "\n",
    "* epsilon_greedy_action_selection: Is used to implement the epsilon greedy action selection routine.\n",
    "* compute_next_q_value: Computes the next Q-Values according to the formula from the lecture\n",
    "* reduce_epsilon: Reduces the $\\epsilon$ used for the epsilon greedy algorithm"
   ]
  },
  {
   "cell_type": "markdown",
   "id": "d79070b6",
   "metadata": {},
   "source": [
    "**1. FUNCTION TO SELECT AN ACTION**\n",
    "\n",
    "If we simply always select the argmax() Q-table value during training, we'll most likely get stuck in an explotation loop, so we'll use a random value to randomly select an action from time to time, helping the model explore, rather than exploit."
   ]
  },
  {
   "cell_type": "code",
   "execution_count": 13,
   "id": "38439bea",
   "metadata": {},
   "outputs": [],
   "source": [
    "def action_selection(epsilon, q_table, discrete_state):\n",
    "    \"\"\"\n",
    "    Returns an action for the agent. Note how it uses a random number to decide on exploration \n",
    "    versus explotation trade-off.\n",
    "    \"\"\"\n",
    "    \n",
    "    random_number = np.random.random()\n",
    "    \n",
    "    # EXPLOITATION, USE BEST Q(s,a) Value\n",
    "    if random_number > epsilon:\n",
    "        # Action row for a particular state\n",
    "        state_row = q_table[discrete_state,:]\n",
    "\n",
    "        # Index of highest action for state\n",
    "        action = np.argmax(state_row)\n",
    "    \n",
    "    # EXPLORATION, USE A RANDOM ACTION\n",
    "    else:\n",
    "        action = env.action_space.sample()\n",
    "        \n",
    "    return action"
   ]
  },
  {
   "cell_type": "markdown",
   "id": "6d0a4e89",
   "metadata": {},
   "source": [
    "**2. FUNCTION FOR Q_VALUE COMPUTATION**\n",
    "\n",
    "\n",
    "$$Q(s,a) \\gets (1-\\alpha)*Q(s,a) + \\alpha*[R(s,a) + \\gamma*\\max_{a}Q(s_{t+1}, a)]$$\n",
    "\n",
    "Here we have our main Q-Learning update equation, note how it takes in the old q-value, the next optimal q value, along with our current reward, and then updates the next q value accordingly."
   ]
  },
  {
   "cell_type": "code",
   "execution_count": 14,
   "id": "17ec3764",
   "metadata": {},
   "outputs": [],
   "source": [
    "def next_q_value(old_q_value, reward, next_optimal_q_value):\n",
    "    \n",
    "    return (1-ALPHA)*old_q_value +  ALPHA * (reward + GAMMA * next_optimal_q_value)\n"
   ]
  },
  {
   "cell_type": "markdown",
   "id": "14e05888",
   "metadata": {},
   "source": [
    "**3. FUNCTION TO REDUCE EPSILON**\n",
    "\n",
    "As training continues, we need to balance explotation versus exploration, we want ot make sure our agent doesn't get trapped in a cycle going from an square to another square back and forth. We also don't want our agent permanently choosing random values. We'll use the function below to try to balance this.\n",
    "\n",
    "$$ \\epsilon = \\epsilon_{min} + (\\epsilon_{max} - \\epsilon_{min})*e^{-\\lambda*\\tau}$$\n",
    "\n",
    "- $\\lambda$: decay rate\n",
    "- $\\tau$: epoch"
   ]
  },
  {
   "cell_type": "code",
   "execution_count": 15,
   "id": "74c791f9",
   "metadata": {},
   "outputs": [],
   "source": [
    "def reduce_epsilon(epsilon,epoch):\n",
    "    \n",
    "    return min_epsilon + (max_epsilon - min_epsilon)*np.exp(-decay_rate*epoch)"
   ]
  },
  {
   "cell_type": "markdown",
   "id": "68c42807",
   "metadata": {},
   "source": [
    "### PART 5:\n",
    "\n",
    "Training of Agent and Updating Q-Table"
   ]
  },
  {
   "cell_type": "code",
   "execution_count": 16,
   "id": "5d86c124",
   "metadata": {},
   "outputs": [],
   "source": [
    "# Reset just in case\n",
    "q_table = np.zeros([state_size, action_size])\n",
    "total_reward = 0\n",
    "epsilon = 1"
   ]
  },
  {
   "cell_type": "code",
   "execution_count": 17,
   "id": "080df6d4",
   "metadata": {},
   "outputs": [],
   "source": [
    "# List of rewards\n",
    "rewards = []\n",
    "\n",
    "# Play 20k games\n",
    "for episode in range(EPOCHS):\n",
    "\n",
    "    # Reset the environment\n",
    "    env = gym.make(\"FrozenLakeNotSlippery-v0\")\n",
    "    # To visualize the whole traninig, change render_mode to \"human\" --> takes a lot of time\n",
    "    state = env.reset()\n",
    "    done = False\n",
    "    total_rewards = 0\n",
    "    \n",
    "    while not done:\n",
    "        action = action_selection(epsilon,q_table, state)\n",
    "\n",
    "        # Take the action (a) and observe the outcome state(s') and reward (r)\n",
    "        new_state, reward, done, info = env.step(action)\n",
    "\n",
    "        \n",
    "        # Look up current/old qtable value Q(s_t,a_t)\n",
    "        old_q_value =  q_table[state,action]  \n",
    "\n",
    "        # Get the next optimal Q-Value\n",
    "        next_optimal_q_value = np.max(q_table[new_state, :])  \n",
    "\n",
    "        # Compute next q value\n",
    "        next_q = next_q_value(old_q_value, reward, next_optimal_q_value)   \n",
    "\n",
    "        # Update Q Table\n",
    "        q_table[state,action] = next_q\n",
    "\n",
    "        \n",
    "        \n",
    "        total_rewards = total_rewards + reward\n",
    "        \n",
    "        # Our new state is state\n",
    "        state = new_state\n",
    "\n",
    "        \n",
    "    episode += 1\n",
    "    # Reduce epsilon (because we need less and less exploration)\n",
    "    epsilon = reduce_epsilon(epsilon,episode) \n",
    "    rewards.append(total_rewards)\n",
    "\n",
    "\n",
    "env.close()"
   ]
  },
  {
   "cell_type": "code",
   "execution_count": 18,
   "id": "08384087",
   "metadata": {},
   "outputs": [
    {
     "data": {
      "text/plain": [
       "[<matplotlib.lines.Line2D at 0x1f83d848b80>]"
      ]
     },
     "execution_count": 18,
     "metadata": {},
     "output_type": "execute_result"
    },
    {
     "data": {
      "image/png": "[encoded data removed]",
      "text/plain": [
       "<Figure size 432x288 with 1 Axes>"
      ]
     },
     "metadata": {
      "needs_background": "light"
     },
     "output_type": "display_data"
    }
   ],
   "source": [
    "plt.plot(range(EPOCHS),np.cumsum(rewards))"
   ]
  },
  {
   "cell_type": "code",
   "execution_count": 19,
   "id": "ab364621",
   "metadata": {},
   "outputs": [
    {
     "data": {
      "text/plain": [
       "array([[0.73509189, 0.77378094, 0.77378094, 0.73509189],\n",
       "       [0.73509189, 0.        , 0.81450625, 0.77378094],\n",
       "       [0.77378094, 0.857375  , 0.77378094, 0.81450625],\n",
       "       [0.81450625, 0.        , 0.77378094, 0.77378094],\n",
       "       [0.77378094, 0.81450625, 0.        , 0.73509189],\n",
       "       [0.        , 0.        , 0.        , 0.        ],\n",
       "       [0.        , 0.9025    , 0.        , 0.81450625],\n",
       "       [0.        , 0.        , 0.        , 0.        ],\n",
       "       [0.81450625, 0.        , 0.857375  , 0.77378094],\n",
       "       [0.81450625, 0.9025    , 0.9025    , 0.        ],\n",
       "       [0.857375  , 0.95      , 0.        , 0.857375  ],\n",
       "       [0.        , 0.        , 0.        , 0.        ],\n",
       "       [0.        , 0.        , 0.        , 0.        ],\n",
       "       [0.        , 0.9025    , 0.95      , 0.857375  ],\n",
       "       [0.9025    , 0.95      , 1.        , 0.9025    ],\n",
       "       [0.        , 0.        , 0.        , 0.        ]])"
      ]
     },
     "execution_count": 19,
     "metadata": {},
     "output_type": "execute_result"
    }
   ],
   "source": [
    "q_table"
   ]
  },
  {
   "cell_type": "markdown",
   "id": "4e33b897",
   "metadata": {},
   "source": [
    "### PART 5:\n",
    "Using Learned Q Table Results"
   ]
  },
  {
   "cell_type": "markdown",
   "id": "sacred-adventure",
   "metadata": {},
   "source": [
    "Now it is time for a final evaluation round!\n",
    "Let's see how well our first RL agent performs"
   ]
  },
  {
   "cell_type": "code",
   "execution_count": 20,
   "id": "28938392",
   "metadata": {},
   "outputs": [
    {
     "name": "stdout",
     "output_type": "stream",
     "text": [
      "  (Right)\n",
      "SFFF\n",
      "FHFH\n",
      "FFFH\n",
      "HF\u001b[41mF\u001b[0mG\n",
      "\n"
     ]
    }
   ],
   "source": [
    "env = gym.make(\"FrozenLakeNotSlippery-v0\")\n",
    "state = env.reset()\n",
    "\n",
    "for _ in range(100):\n",
    "    a = env.render(mode=\"ansi\") \n",
    "    print(a)\n",
    "    \n",
    "    action = np.argmax(q_table[state])  # and chose action from the Q-Table\n",
    "    state, reward, done, info = env.step(action) # Finally perform the action\n",
    "\n",
    "    time.sleep(1)\n",
    "    clear_output(wait=True)\n",
    "    \n",
    "    if done:\n",
    "        break\n",
    "\n",
    "env.close()"
   ]
  }
 ],
 "metadata": {
  "kernelspec": {
   "display_name": "Python 3.9.12 ('base')",
   "language": "python",
   "name": "python3"
  },
  "language_info": {
   "codemirror_mode": {
    "name": "ipython",
    "version": 3
   },
   "file_extension": ".py",
   "mimetype": "text/x-python",
   "name": "python",
   "nbconvert_exporter": "python",
   "pygments_lexer": "ipython3",
   "version": "3.9.12"
  },
  "vscode": {
   "interpreter": {
    "hash": "20a9e06a1eee47c4abbed4ec8225ad91d78d9800d202b71b6b0a6e47016c6abd"
   }
  }
 },
 "nbformat": 4,
 "nbformat_minor": 5
}
