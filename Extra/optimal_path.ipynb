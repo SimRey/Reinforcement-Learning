{
 "cells": [
  {
   "cell_type": "markdown",
   "metadata": {},
   "source": [
    "## Optimal path\n",
    "\n",
    "In this notebook, a problem in which the optimal path to reach an end-node will be solved, using Q-Learning a RL algorithm."
   ]
  },
  {
   "cell_type": "code",
   "execution_count": 1,
   "metadata": {},
   "outputs": [],
   "source": [
    "import numpy as np\n",
    "import matplotlib.pyplot as plt\n",
    "import random"
   ]
  },
  {
   "cell_type": "code",
   "execution_count": 2,
   "metadata": {},
   "outputs": [],
   "source": [
    "# R matrix\n",
    "R = np.array([[-100, -100, -100, -100, -5, -100],\n",
    "              [-100, -100, -100, -5, -100, 20],\n",
    "              [-100, -100, -100, -5, -100, -100],\n",
    "              [-100, -5, -5, -100, -5, -100],\n",
    "              [-5, -100, -100, -5, -100, 20],\n",
    "              [-100, -5, -100, -100, -5, 20]])\n",
    "\n",
    "# Q-matrix\n",
    "Q = np.zeros((6,6))"
   ]
  },
  {
   "cell_type": "markdown",
   "metadata": {},
   "source": [
    "### Hyperparameters"
   ]
  },
  {
   "cell_type": "code",
   "execution_count": 3,
   "metadata": {},
   "outputs": [],
   "source": [
    "# It is common to leave Hyperparameters in ALL CAPS to easily locate them\n",
    "\n",
    "EPOCHS=20000  \n",
    "ALPHA = 0.8 \n",
    "GAMMA = 0.95"
   ]
  },
  {
   "cell_type": "code",
   "execution_count": 4,
   "metadata": {},
   "outputs": [],
   "source": [
    "# Exploration vs. Exploitation parameters\n",
    "epsilon = 1.0                 # Exploration rate\n",
    "max_epsilon = 1.0             # Exploration probability at start\n",
    "min_epsilon = 0.01            # Minimum exploration probability \n",
    "decay_rate = 0.001            # Exponential decay rate for exploration prob"
   ]
  },
  {
   "cell_type": "markdown",
   "metadata": {},
   "source": [
    "### Associated functions"
   ]
  },
  {
   "cell_type": "code",
   "execution_count": 5,
   "metadata": {},
   "outputs": [],
   "source": [
    "def action_selection(epsilon, q_table, r_table, discrete_state):\n",
    "\n",
    "    random_number = np.random.random()\n",
    "    \n",
    "    # EXPLOITATION, USE BEST Q(s,a) Value\n",
    "    if random_number > epsilon:\n",
    "        # Action row for a particular state\n",
    "        state_row = q_table[discrete_state,:]\n",
    "\n",
    "        # Index of highest action for state\n",
    "        action = np.argmax(state_row)\n",
    "\n",
    "        # Associated reward\n",
    "        reward = R[discrete_state, action]\n",
    "\n",
    "    \n",
    "    # EXPLORATION, USE A RANDOM ACTION\n",
    "    else:\n",
    "        action = random.randint(0, 5)\n",
    "        reward = R[discrete_state, action]\n",
    "        \n",
    "    return action, reward"
   ]
  },
  {
   "cell_type": "code",
   "execution_count": 6,
   "metadata": {},
   "outputs": [],
   "source": [
    "def next_optimal_q_value(q_table, discrete_state):\n",
    "\n",
    "    state_row = q_table[discrete_state,:]\n",
    "    act = np.argmax(state_row)\n",
    "\n",
    "    next_max_q = q_table[discrete_state, act]\n",
    "\n",
    "    return next_max_q"
   ]
  },
  {
   "cell_type": "code",
   "execution_count": 7,
   "metadata": {},
   "outputs": [],
   "source": [
    "def reinforcement_learning(epsilon, alpha, gamma, state, Q, R):\n",
    "\n",
    "    path = [state]\n",
    "\n",
    "    if state == 5:\n",
    "        score = 20\n",
    "    else:\n",
    "        score = 0\n",
    "    \n",
    "    while state != 5:\n",
    "        action, reward = action_selection(epsilon, Q, R, state)\n",
    "        score += reward\n",
    "\n",
    "        next_opt_q = next_optimal_q_value(Q, action)                     \n",
    "        Q[state, action] = (1 - alpha)*Q[state, action] + alpha*(reward + gamma*next_opt_q)\n",
    "\n",
    "        state = action\n",
    "        path.append(state)\n",
    "    \n",
    "    return score, path"
   ]
  },
  {
   "cell_type": "code",
   "execution_count": 8,
   "metadata": {},
   "outputs": [],
   "source": [
    "def reduce_epsilon(epsilon,epoch):\n",
    "    \n",
    "    return min_epsilon + (max_epsilon - min_epsilon)*np.exp(-decay_rate*epoch)"
   ]
  },
  {
   "cell_type": "markdown",
   "metadata": {},
   "source": [
    "### Training loop"
   ]
  },
  {
   "cell_type": "code",
   "execution_count": 9,
   "metadata": {},
   "outputs": [],
   "source": [
    "score = []\n",
    "path = []\n",
    "\n",
    "\n",
    "for i in range(EPOCHS):\n",
    "    current_state = np.random.randint(0, int(Q.shape[0]))\n",
    "    run = reinforcement_learning(epsilon, ALPHA, GAMMA, current_state, Q, R)\n",
    "    epsilon = reduce_epsilon(epsilon, i + 1) \n",
    "\n",
    "    given_score = run[0]\n",
    "    used_path = run[1]\n",
    "    score.append(given_score)\n",
    "    path.append(used_path)"
   ]
  },
  {
   "cell_type": "code",
   "execution_count": 10,
   "metadata": {},
   "outputs": [
    {
     "data": {
      "text/plain": [
       "Text(0, 0.5, 'Score')"
      ]
     },
     "execution_count": 10,
     "metadata": {},
     "output_type": "execute_result"
    },
    {
     "data": {
      "image/png": "[encoded data removed]",
      "text/plain": [
       "<Figure size 432x288 with 1 Axes>"
      ]
     },
     "metadata": {
      "needs_background": "light"
     },
     "output_type": "display_data"
    }
   ],
   "source": [
    "plt.plot(np.linspace(0, len(score), len(score)), score)\n",
    "plt.xlabel(\"Trails\")\n",
    "plt.ylabel(\"Score\")"
   ]
  },
  {
   "cell_type": "markdown",
   "metadata": {},
   "source": [
    "### Test loop"
   ]
  },
  {
   "cell_type": "code",
   "execution_count": 11,
   "metadata": {},
   "outputs": [
    {
     "name": "stdout",
     "output_type": "stream",
     "text": [
      "(15, [0, 4, 5])\n",
      "(20, [1, 5])\n",
      "(10, [2, 3, 1, 5])\n",
      "(15, [3, 1, 5])\n",
      "(20, [4, 5])\n",
      "(20, [5])\n"
     ]
    }
   ],
   "source": [
    "for i in range(6):\n",
    "    res = reinforcement_learning(epsilon, ALPHA, GAMMA, i, Q, R)\n",
    "    print(res)"
   ]
  }
 ],
 "metadata": {
  "kernelspec": {
   "display_name": "Python 3.9.12 ('base')",
   "language": "python",
   "name": "python3"
  },
  "language_info": {
   "codemirror_mode": {
    "name": "ipython",
    "version": 3
   },
   "file_extension": ".py",
   "mimetype": "text/x-python",
   "name": "python",
   "nbconvert_exporter": "python",
   "pygments_lexer": "ipython3",
   "version": "3.9.12"
  },
  "orig_nbformat": 4,
  "vscode": {
   "interpreter": {
    "hash": "20a9e06a1eee47c4abbed4ec8225ad91d78d9800d202b71b6b0a6e47016c6abd"
   }
  }
 },
 "nbformat": 4,
 "nbformat_minor": 2
}
