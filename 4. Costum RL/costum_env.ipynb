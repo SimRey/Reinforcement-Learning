{
 "cells": [
  {
   "cell_type": "markdown",
   "metadata": {},
   "source": [
    "## <center> Costum environment creation with OpenAI GYM </center>\n",
    "\n",
    "In the following notebook a costum environment will be created, in which an agent will have to adjust the temperature of a shower. During this, the agenet will have to deal with temperature fluctuations and a certain time limit."
   ]
  },
  {
   "cell_type": "markdown",
   "metadata": {},
   "source": [
    "### 1. Creating the environment"
   ]
  },
  {
   "cell_type": "code",
   "execution_count": 1,
   "metadata": {},
   "outputs": [],
   "source": [
    "from gym import Env\n",
    "from gym.spaces import Discrete, Box\n",
    "import numpy as np\n",
    "import random"
   ]
  },
  {
   "cell_type": "code",
   "execution_count": 2,
   "metadata": {},
   "outputs": [],
   "source": [
    "class ShowerEnv(Env):\n",
    "    def __init__(self):\n",
    "        # Actions we can take, down, stay, up\n",
    "        self.action_space = Discrete(3)\n",
    "        # Temperature array\n",
    "        self.observation_space = Box(low=np.array([0]), high=np.array([100]))\n",
    "        # Set start temp and start time\n",
    "        self.reset()\n",
    "        \n",
    "    def step(self, action):\n",
    "\n",
    "        # Apply action\n",
    "        self.state += action - 1\n",
    "        # Decrease temperature action = 0 --> T + 0 - 1 = T - 1\n",
    "        # Stall temperature action = 1 --> T + 1 - 1 = T + 0\n",
    "        # Increase temperature action = 2 --> T + 2 -1 = T + 1\n",
    "        \n",
    "        \n",
    "        # Apply temperature noise --> more realistic model\n",
    "        self.state += random.randint(-1,1)\n",
    "\n",
    "        # Reduce shower length by 1 second\n",
    "        self.shower_length -= 1 \n",
    "        \n",
    "        # Calculate reward\n",
    "        if 37 <= self.state <= 39: \n",
    "            reward = 1 \n",
    "        else: \n",
    "            reward = -1 \n",
    "        \n",
    "        # Check if shower is done\n",
    "        if self.shower_length <= 0: \n",
    "            done = True\n",
    "        else:\n",
    "            done = False\n",
    "        \n",
    "        # Set placeholder for info\n",
    "        info = {}\n",
    "        \n",
    "        # Return step information\n",
    "        return self.state, reward, done, info\n",
    "\n",
    "    def render(self):\n",
    "        # Implement visualization --> in this case is not built\n",
    "        pass\n",
    "    \n",
    "    def reset(self):\n",
    "        # Reset shower temperature\n",
    "        self.state = 38 + random.randint(-3,3)\n",
    "        # Reset shower time\n",
    "        self.shower_length = 60 \n",
    "        return self.state\n"
   ]
  },
  {
   "cell_type": "code",
   "execution_count": 3,
   "metadata": {},
   "outputs": [
    {
     "name": "stdout",
     "output_type": "stream",
     "text": [
      "Episode: 1, Mean temperature: 32.72 Score: -46\n",
      "Episode: 2, Mean temperature: 29.28 Score: -48\n",
      "Episode: 3, Mean temperature: 42.68 Score: -42\n",
      "Episode: 4, Mean temperature: 40.60 Score: -16\n",
      "Episode: 5, Mean temperature: 40.48 Score: -38\n",
      "Episode: 6, Mean temperature: 32.62 Score: -56\n",
      "Episode: 7, Mean temperature: 51.38 Score: -58\n",
      "Episode: 8, Mean temperature: 40.02 Score: -14\n",
      "Episode: 9, Mean temperature: 45.03 Score: -44\n",
      "Episode: 10, Mean temperature: 32.20 Score: -44\n"
     ]
    },
    {
     "name": "stderr",
     "output_type": "stream",
     "text": [
      "c:\\Users\\Lenovo\\anaconda3\\lib\\site-packages\\gym\\logger.py:30: UserWarning: \u001b[33mWARN: Box bound precision lowered by casting to float32\u001b[0m\n",
      "  warnings.warn(colorize('%s: %s'%('WARN', msg % args), 'yellow'))\n"
     ]
    }
   ],
   "source": [
    "env = ShowerEnv()\n",
    "episodes = 10\n",
    "\n",
    "for episode in range(1, episodes+1):\n",
    "    state = env.reset()\n",
    "    done = False\n",
    "    score = 0\n",
    "    temps = []\n",
    "    \n",
    "    while not done:\n",
    "        action = env.action_space.sample()\n",
    "        temp, reward, done, info = env.step(action)\n",
    "        temps.append(temp) \n",
    "        score +=reward\n",
    "    mean_temp = np.mean(np.array(temps))\n",
    "    print(f'Episode: {episode}, Mean temperature: {mean_temp:.2f} Score: {score}')"
   ]
  },
  {
   "cell_type": "markdown",
   "metadata": {},
   "source": [
    "### 2. Creating a Deep Learning Model Agent with Keras-RL"
   ]
  },
  {
   "cell_type": "code",
   "execution_count": 4,
   "metadata": {},
   "outputs": [],
   "source": [
    "from tensorflow.keras.models import Sequential\n",
    "from tensorflow.keras.layers import Dense\n",
    "from tensorflow.keras.optimizers import Adam\n",
    "\n",
    "from rl.agents import DQNAgent\n",
    "from rl.policy import BoltzmannQPolicy\n",
    "from rl.memory import SequentialMemory"
   ]
  },
  {
   "cell_type": "code",
   "execution_count": 11,
   "metadata": {},
   "outputs": [
    {
     "name": "stdout",
     "output_type": "stream",
     "text": [
      "There are 3 possible actions and (1,) observations\n"
     ]
    }
   ],
   "source": [
    "num_actions = env.action_space.n\n",
    "num_observations = env.observation_space.shape[0]\n",
    "print(f\"There are {num_actions} possible actions and {num_observations} observations\")"
   ]
  },
  {
   "cell_type": "code",
   "execution_count": 6,
   "metadata": {},
   "outputs": [],
   "source": [
    "def build_model(states, actions):\n",
    "    model = Sequential()    \n",
    "    model.add(Dense(24, activation='relu', input_shape=(states, )))\n",
    "    model.add(Dense(24, activation='relu'))\n",
    "    model.add(Dense(actions, activation='linear'))\n",
    "\n",
    "    return model"
   ]
  },
  {
   "cell_type": "code",
   "execution_count": 7,
   "metadata": {},
   "outputs": [
    {
     "name": "stdout",
     "output_type": "stream",
     "text": [
      "Model: \"sequential\"\n",
      "_________________________________________________________________\n",
      " Layer (type)                Output Shape              Param #   \n",
      "=================================================================\n",
      " dense (Dense)               (None, 24)                48        \n",
      "                                                                 \n",
      " dense_1 (Dense)             (None, 24)                600       \n",
      "                                                                 \n",
      " dense_2 (Dense)             (None, 3)                 75        \n",
      "                                                                 \n",
      "=================================================================\n",
      "Total params: 723\n",
      "Trainable params: 723\n",
      "Non-trainable params: 0\n",
      "_________________________________________________________________\n",
      "None\n"
     ]
    }
   ],
   "source": [
    "model = build_model(num_observations, num_actions)\n",
    "\n",
    "print(model.summary())"
   ]
  },
  {
   "cell_type": "code",
   "execution_count": 8,
   "metadata": {},
   "outputs": [],
   "source": [
    "memory = SequentialMemory(limit=50000, window_length=1)\n",
    "policy = BoltzmannQPolicy()\n",
    "\n",
    "dqn = DQNAgent(model=model, \n",
    "               nb_actions=num_actions, \n",
    "               memory=memory, \n",
    "               nb_steps_warmup=10,\n",
    "               target_model_update=1e-2, \n",
    "               policy=policy)\n",
    "\n",
    "# Compilation\n",
    "dqn.compile(Adam(learning_rate=0.0001), metrics=['mae']) "
   ]
  },
  {
   "cell_type": "code",
   "execution_count": 9,
   "metadata": {},
   "outputs": [
    {
     "name": "stdout",
     "output_type": "stream",
     "text": [
      "Training for 60000 steps ...\n",
      "Interval 1 (0 steps performed)\n",
      "    1/10000 [..............................] - ETA: 9:42 - reward: -1.0000"
     ]
    },
    {
     "name": "stderr",
     "output_type": "stream",
     "text": [
      "c:\\Users\\Lenovo\\anaconda3\\lib\\site-packages\\keras\\engine\\training_v1.py:2067: UserWarning: `Model.state_updates` will be removed in a future version. This property should not be used in TensorFlow 2.0, as `updates` are applied automatically.\n",
      "  updates=self.state_updates,\n",
      "c:\\Users\\Lenovo\\anaconda3\\lib\\site-packages\\rl\\memory.py:37: UserWarning: Not enough entries to sample without replacement. Consider increasing your warm-up phase to avoid oversampling!\n",
      "  warnings.warn('Not enough entries to sample without replacement. Consider increasing your warm-up phase to avoid oversampling!')\n"
     ]
    },
    {
     "name": "stdout",
     "output_type": "stream",
     "text": [
      "10000/10000 [==============================] - 113s 11ms/step - reward: -0.6692\n",
      "166 episodes - episode_reward: -40.241 [-60.000, 16.000] - loss: 1.084 - mae: 7.273 - mean_q: -10.008\n",
      "\n",
      "Interval 2 (10000 steps performed)\n",
      "10000/10000 [==============================] - 99s 10ms/step - reward: -0.6508\n",
      "167 episodes - episode_reward: -38.922 [-60.000, 14.000] - loss: 1.429 - mae: 8.955 - mean_q: -12.683\n",
      "\n",
      "Interval 3 (20000 steps performed)\n",
      "10000/10000 [==============================] - 103s 10ms/step - reward: -0.6660\n",
      "167 episodes - episode_reward: -40.000 [-60.000, 16.000] - loss: 1.511 - mae: 9.439 - mean_q: -13.415\n",
      "\n",
      "Interval 4 (30000 steps performed)\n",
      "10000/10000 [==============================] - 102s 10ms/step - reward: -0.6706\n",
      "166 episodes - episode_reward: -40.361 [-60.000, 12.000] - loss: 1.604 - mae: 9.866 - mean_q: -14.054\n",
      "\n",
      "Interval 5 (40000 steps performed)\n",
      "10000/10000 [==============================] - 102s 10ms/step - reward: -0.6702\n",
      "167 episodes - episode_reward: -40.060 [-60.000, 16.000] - loss: 1.822 - mae: 10.435 - mean_q: -14.917\n",
      "\n",
      "Interval 6 (50000 steps performed)\n",
      "10000/10000 [==============================] - 101s 10ms/step - reward: -0.6802\n",
      "done, took 620.863 seconds\n"
     ]
    },
    {
     "data": {
      "text/plain": [
       "<keras.callbacks.History at 0x1e61c38fa30>"
      ]
     },
     "execution_count": 9,
     "metadata": {},
     "output_type": "execute_result"
    }
   ],
   "source": [
    "dqn.fit(env, nb_steps=60000, verbose=1)"
   ]
  },
  {
   "cell_type": "code",
   "execution_count": 10,
   "metadata": {},
   "outputs": [
    {
     "name": "stdout",
     "output_type": "stream",
     "text": [
      "Testing for 150 episodes ...\n",
      "Episode 1: reward: -60.000, steps: 60\n",
      "Episode 2: reward: -56.000, steps: 60\n",
      "Episode 3: reward: -60.000, steps: 60\n",
      "Episode 4: reward: -58.000, steps: 60\n",
      "Episode 5: reward: -56.000, steps: 60\n",
      "Episode 6: reward: -60.000, steps: 60\n",
      "Episode 7: reward: -60.000, steps: 60\n",
      "Episode 8: reward: -52.000, steps: 60\n",
      "Episode 9: reward: -54.000, steps: 60\n",
      "Episode 10: reward: -60.000, steps: 60\n",
      "Episode 11: reward: -52.000, steps: 60\n",
      "Episode 12: reward: -60.000, steps: 60\n",
      "Episode 13: reward: -60.000, steps: 60\n",
      "Episode 14: reward: -60.000, steps: 60\n",
      "Episode 15: reward: -50.000, steps: 60\n",
      "Episode 16: reward: -60.000, steps: 60\n",
      "Episode 17: reward: -54.000, steps: 60\n",
      "Episode 18: reward: -60.000, steps: 60\n",
      "Episode 19: reward: -52.000, steps: 60\n",
      "Episode 20: reward: -56.000, steps: 60\n",
      "Episode 21: reward: -58.000, steps: 60\n",
      "Episode 22: reward: -56.000, steps: 60\n",
      "Episode 23: reward: -58.000, steps: 60\n",
      "Episode 24: reward: -60.000, steps: 60\n",
      "Episode 25: reward: -56.000, steps: 60\n",
      "Episode 26: reward: -60.000, steps: 60\n",
      "Episode 27: reward: -56.000, steps: 60\n",
      "Episode 28: reward: -54.000, steps: 60\n",
      "Episode 29: reward: -56.000, steps: 60\n",
      "Episode 30: reward: -56.000, steps: 60\n",
      "Episode 31: reward: -56.000, steps: 60\n",
      "Episode 32: reward: -60.000, steps: 60\n",
      "Episode 33: reward: -60.000, steps: 60\n",
      "Episode 34: reward: -60.000, steps: 60\n",
      "Episode 35: reward: -58.000, steps: 60\n",
      "Episode 36: reward: -60.000, steps: 60\n",
      "Episode 37: reward: -56.000, steps: 60\n",
      "Episode 38: reward: -60.000, steps: 60\n",
      "Episode 39: reward: -60.000, steps: 60\n",
      "Episode 40: reward: -54.000, steps: 60\n",
      "Episode 41: reward: -60.000, steps: 60\n",
      "Episode 42: reward: -58.000, steps: 60\n",
      "Episode 43: reward: -56.000, steps: 60\n",
      "Episode 44: reward: -54.000, steps: 60\n",
      "Episode 45: reward: -58.000, steps: 60\n",
      "Episode 46: reward: -50.000, steps: 60\n",
      "Episode 47: reward: -56.000, steps: 60\n",
      "Episode 48: reward: -56.000, steps: 60\n",
      "Episode 49: reward: -60.000, steps: 60\n",
      "Episode 50: reward: -50.000, steps: 60\n",
      "Episode 51: reward: -60.000, steps: 60\n",
      "Episode 52: reward: -58.000, steps: 60\n",
      "Episode 53: reward: -60.000, steps: 60\n",
      "Episode 54: reward: -60.000, steps: 60\n",
      "Episode 55: reward: -54.000, steps: 60\n",
      "Episode 56: reward: -60.000, steps: 60\n",
      "Episode 57: reward: -50.000, steps: 60\n",
      "Episode 58: reward: -58.000, steps: 60\n",
      "Episode 59: reward: -60.000, steps: 60\n",
      "Episode 60: reward: -60.000, steps: 60\n",
      "Episode 61: reward: -58.000, steps: 60\n",
      "Episode 62: reward: -58.000, steps: 60\n",
      "Episode 63: reward: -54.000, steps: 60\n",
      "Episode 64: reward: -52.000, steps: 60\n",
      "Episode 65: reward: -54.000, steps: 60\n",
      "Episode 66: reward: -58.000, steps: 60\n",
      "Episode 67: reward: -60.000, steps: 60\n",
      "Episode 68: reward: -60.000, steps: 60\n",
      "Episode 69: reward: -56.000, steps: 60\n",
      "Episode 70: reward: -60.000, steps: 60\n",
      "Episode 71: reward: -50.000, steps: 60\n",
      "Episode 72: reward: -54.000, steps: 60\n",
      "Episode 73: reward: -58.000, steps: 60\n",
      "Episode 74: reward: -52.000, steps: 60\n",
      "Episode 75: reward: -56.000, steps: 60\n",
      "Episode 76: reward: -54.000, steps: 60\n",
      "Episode 77: reward: -60.000, steps: 60\n",
      "Episode 78: reward: -56.000, steps: 60\n",
      "Episode 79: reward: -58.000, steps: 60\n",
      "Episode 80: reward: -58.000, steps: 60\n",
      "Episode 81: reward: -54.000, steps: 60\n",
      "Episode 82: reward: -60.000, steps: 60\n",
      "Episode 83: reward: -56.000, steps: 60\n",
      "Episode 84: reward: -56.000, steps: 60\n",
      "Episode 85: reward: -60.000, steps: 60\n",
      "Episode 86: reward: -60.000, steps: 60\n",
      "Episode 87: reward: -60.000, steps: 60\n",
      "Episode 88: reward: -58.000, steps: 60\n",
      "Episode 89: reward: -60.000, steps: 60\n",
      "Episode 90: reward: -60.000, steps: 60\n",
      "Episode 91: reward: -56.000, steps: 60\n",
      "Episode 92: reward: -56.000, steps: 60\n",
      "Episode 93: reward: -60.000, steps: 60\n",
      "Episode 94: reward: -60.000, steps: 60\n",
      "Episode 95: reward: -50.000, steps: 60\n",
      "Episode 96: reward: -60.000, steps: 60\n",
      "Episode 97: reward: -58.000, steps: 60\n",
      "Episode 98: reward: -56.000, steps: 60\n",
      "Episode 99: reward: -60.000, steps: 60\n",
      "Episode 100: reward: -58.000, steps: 60\n",
      "Episode 101: reward: -60.000, steps: 60\n",
      "Episode 102: reward: -56.000, steps: 60\n",
      "Episode 103: reward: -56.000, steps: 60\n",
      "Episode 104: reward: -54.000, steps: 60\n",
      "Episode 105: reward: -60.000, steps: 60\n",
      "Episode 106: reward: -60.000, steps: 60\n",
      "Episode 107: reward: -56.000, steps: 60\n",
      "Episode 108: reward: -60.000, steps: 60\n",
      "Episode 109: reward: -58.000, steps: 60\n",
      "Episode 110: reward: -60.000, steps: 60\n",
      "Episode 111: reward: -60.000, steps: 60\n",
      "Episode 112: reward: -58.000, steps: 60\n",
      "Episode 113: reward: -58.000, steps: 60\n",
      "Episode 114: reward: -58.000, steps: 60\n",
      "Episode 115: reward: -60.000, steps: 60\n",
      "Episode 116: reward: -60.000, steps: 60\n",
      "Episode 117: reward: -58.000, steps: 60\n",
      "Episode 118: reward: -60.000, steps: 60\n",
      "Episode 119: reward: -60.000, steps: 60\n",
      "Episode 120: reward: -52.000, steps: 60\n",
      "Episode 121: reward: -50.000, steps: 60\n",
      "Episode 122: reward: -60.000, steps: 60\n",
      "Episode 123: reward: -56.000, steps: 60\n",
      "Episode 124: reward: -60.000, steps: 60\n",
      "Episode 125: reward: -60.000, steps: 60\n",
      "Episode 126: reward: -60.000, steps: 60\n",
      "Episode 127: reward: -60.000, steps: 60\n",
      "Episode 128: reward: -58.000, steps: 60\n",
      "Episode 129: reward: -60.000, steps: 60\n",
      "Episode 130: reward: -60.000, steps: 60\n",
      "Episode 131: reward: -54.000, steps: 60\n",
      "Episode 132: reward: -58.000, steps: 60\n",
      "Episode 133: reward: -54.000, steps: 60\n",
      "Episode 134: reward: -60.000, steps: 60\n",
      "Episode 135: reward: -54.000, steps: 60\n",
      "Episode 136: reward: -52.000, steps: 60\n",
      "Episode 137: reward: -52.000, steps: 60\n",
      "Episode 138: reward: -58.000, steps: 60\n",
      "Episode 139: reward: -60.000, steps: 60\n",
      "Episode 140: reward: -58.000, steps: 60\n",
      "Episode 141: reward: -60.000, steps: 60\n",
      "Episode 142: reward: -52.000, steps: 60\n",
      "Episode 143: reward: -56.000, steps: 60\n",
      "Episode 144: reward: -56.000, steps: 60\n",
      "Episode 145: reward: -52.000, steps: 60\n",
      "Episode 146: reward: -60.000, steps: 60\n",
      "Episode 147: reward: -60.000, steps: 60\n",
      "Episode 148: reward: -60.000, steps: 60\n",
      "Episode 149: reward: -58.000, steps: 60\n",
      "Episode 150: reward: -58.000, steps: 60\n",
      "-57.306666666666665\n"
     ]
    }
   ],
   "source": [
    "results = dqn.test(env, nb_episodes=150, visualize=False)\n",
    "print(np.mean(results.history['episode_reward']))"
   ]
  }
 ],
 "metadata": {
  "kernelspec": {
   "display_name": "Python 3.9.12 ('base')",
   "language": "python",
   "name": "python3"
  },
  "language_info": {
   "codemirror_mode": {
    "name": "ipython",
    "version": 3
   },
   "file_extension": ".py",
   "mimetype": "text/x-python",
   "name": "python",
   "nbconvert_exporter": "python",
   "pygments_lexer": "ipython3",
   "version": "3.9.12"
  },
  "orig_nbformat": 4,
  "vscode": {
   "interpreter": {
    "hash": "20a9e06a1eee47c4abbed4ec8225ad91d78d9800d202b71b6b0a6e47016c6abd"
   }
  }
 },
 "nbformat": 4,
 "nbformat_minor": 2
}
