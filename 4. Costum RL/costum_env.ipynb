{
 "cells": [
  {
   "cell_type": "markdown",
   "metadata": {},
   "source": [
    "## <center> Costum environment creation with OpenAI GYM </center>\n",
    "\n",
    "In the following notebook a costum environment will be created, in which an agent will have to adjust the temperature of a shower. During this, the agenet will have to deal with temperature fluctuations and a certain time limit."
   ]
  },
  {
   "cell_type": "markdown",
   "metadata": {},
   "source": [
    "### 1. Creating the environment"
   ]
  },
  {
   "cell_type": "code",
   "execution_count": 1,
   "metadata": {},
   "outputs": [],
   "source": [
    "from gym import Env\n",
    "from gym.spaces import Discrete, Box\n",
    "import numpy as np\n",
    "import random"
   ]
  },
  {
   "cell_type": "code",
   "execution_count": 2,
   "metadata": {},
   "outputs": [],
   "source": [
    "class ShowerEnv(Env):\n",
    "    def __init__(self):\n",
    "        # Actions we can take, down, stay, up\n",
    "        self.action_space = Discrete(3)\n",
    "        # Temperature array\n",
    "        self.observation_space = Box(low=np.array([0]), high=np.array([100]))\n",
    "        # Set start temp and start time\n",
    "        self.reset()\n",
    "        \n",
    "    def step(self, action):\n",
    "\n",
    "        # Apply action\n",
    "        self.state += action - 1\n",
    "        # Decrease temperature action = 0 --> T + 0 - 1 = T - 1\n",
    "        # Stall temperature action = 1 --> T + 1 - 1 = T + 0\n",
    "        # Increase temperature action = 2 --> T + 2 -1 = T + 1\n",
    "        \n",
    "        \n",
    "        # Apply temperature noise --> more realistic model\n",
    "        self.state += random.randint(-1,1)\n",
    "\n",
    "        # Reduce shower length by 1 second\n",
    "        self.shower_length -= 1 \n",
    "        \n",
    "        # Calculate reward\n",
    "        if 37 <= self.state <= 39: \n",
    "            reward = 1 \n",
    "        else: \n",
    "            reward = -1 \n",
    "        \n",
    "        # Check if shower is done\n",
    "        if self.shower_length <= 0: \n",
    "            done = True\n",
    "        else:\n",
    "            done = False\n",
    "        \n",
    "        # Set placeholder for info\n",
    "        info = {}\n",
    "        \n",
    "        # Return step information\n",
    "        return self.state, reward, done, info\n",
    "\n",
    "    def render(self):\n",
    "        # Implement visualization --> in this case is not built\n",
    "        pass\n",
    "    \n",
    "    def reset(self):\n",
    "        # Reset shower temperature\n",
    "        self.state = 38 + random.randint(-3,3)\n",
    "        # Reset shower time\n",
    "        self.shower_length = 60 \n",
    "        return self.state\n"
   ]
  },
  {
   "cell_type": "code",
   "execution_count": 3,
   "metadata": {},
   "outputs": [
    {
     "name": "stdout",
     "output_type": "stream",
     "text": [
      "Episode: 1, Mean temperature: 39.33 Score: -42\n",
      "Episode: 2, Mean temperature: 33.35 Score: -54\n",
      "Episode: 3, Mean temperature: 34.08 Score: -34\n",
      "Episode: 4, Mean temperature: 43.92 Score: -58\n",
      "Episode: 5, Mean temperature: 41.48 Score: -46\n",
      "Episode: 6, Mean temperature: 38.00 Score: 0\n",
      "Episode: 7, Mean temperature: 38.08 Score: 4\n",
      "Episode: 8, Mean temperature: 41.62 Score: -32\n",
      "Episode: 9, Mean temperature: 33.75 Score: -56\n",
      "Episode: 10, Mean temperature: 35.47 Score: -26\n"
     ]
    },
    {
     "name": "stderr",
     "output_type": "stream",
     "text": [
      "c:\\Users\\Lenovo\\anaconda3\\lib\\site-packages\\gym\\logger.py:30: UserWarning: \u001b[33mWARN: Box bound precision lowered by casting to float32\u001b[0m\n",
      "  warnings.warn(colorize('%s: %s'%('WARN', msg % args), 'yellow'))\n"
     ]
    }
   ],
   "source": [
    "env = ShowerEnv()\n",
    "episodes = 10\n",
    "\n",
    "for episode in range(1, episodes+1):\n",
    "    state = env.reset()\n",
    "    done = False\n",
    "    score = 0\n",
    "    temps = []\n",
    "    \n",
    "    while not done:\n",
    "        action = env.action_space.sample()\n",
    "        temp, reward, done, info = env.step(action)\n",
    "        temps.append(temp) \n",
    "        score +=reward\n",
    "    mean_temp = np.mean(np.array(temps))\n",
    "    print(f'Episode: {episode}, Mean temperature: {mean_temp:.2f} Score: {score}')"
   ]
  },
  {
   "cell_type": "markdown",
   "metadata": {},
   "source": [
    "### 2. Creating a Deep Learning Model Agent with Keras-RL"
   ]
  },
  {
   "cell_type": "code",
   "execution_count": 4,
   "metadata": {},
   "outputs": [],
   "source": [
    "from tensorflow.keras.models import Sequential\n",
    "from tensorflow.keras.layers import Dense\n",
    "from tensorflow.keras.optimizers import Adam\n",
    "\n",
    "from rl.agents import DQNAgent\n",
    "from rl.policy import BoltzmannQPolicy\n",
    "from rl.policy import LinearAnnealedPolicy, EpsGreedyQPolicy\n",
    "from rl.memory import SequentialMemory"
   ]
  },
  {
   "cell_type": "code",
   "execution_count": 5,
   "metadata": {},
   "outputs": [
    {
     "name": "stdout",
     "output_type": "stream",
     "text": [
      "There are 3 possible actions and 1 observations\n"
     ]
    }
   ],
   "source": [
    "num_actions = env.action_space.n\n",
    "num_observations = env.observation_space.shape[0]\n",
    "print(f\"There are {num_actions} possible actions and {num_observations} observations\")"
   ]
  },
  {
   "cell_type": "code",
   "execution_count": 6,
   "metadata": {},
   "outputs": [],
   "source": [
    "def build_model(states, actions):\n",
    "    model = Sequential()    \n",
    "    model.add(Dense(32, activation='relu', input_shape=(states, )))\n",
    "    model.add(Dense(32, activation='relu'))\n",
    "    model.add(Dense(actions, activation='linear'))\n",
    "\n",
    "    return model"
   ]
  },
  {
   "cell_type": "code",
   "execution_count": 7,
   "metadata": {},
   "outputs": [
    {
     "name": "stdout",
     "output_type": "stream",
     "text": [
      "Model: \"sequential\"\n",
      "_________________________________________________________________\n",
      " Layer (type)                Output Shape              Param #   \n",
      "=================================================================\n",
      " dense (Dense)               (None, 32)                64        \n",
      "                                                                 \n",
      " dense_1 (Dense)             (None, 32)                1056      \n",
      "                                                                 \n",
      " dense_2 (Dense)             (None, 3)                 99        \n",
      "                                                                 \n",
      "=================================================================\n",
      "Total params: 1,219\n",
      "Trainable params: 1,219\n",
      "Non-trainable params: 0\n",
      "_________________________________________________________________\n",
      "None\n"
     ]
    }
   ],
   "source": [
    "model = build_model(num_observations, num_actions)\n",
    "\n",
    "print(model.summary())"
   ]
  },
  {
   "cell_type": "code",
   "execution_count": 8,
   "metadata": {},
   "outputs": [],
   "source": [
    "memory = SequentialMemory(limit=20000, window_length=1)\n",
    "policy = LinearAnnealedPolicy(BoltzmannQPolicy(),\n",
    "                              attr='tau', \n",
    "                              value_max=1.0, \n",
    "                              value_min=0.001,  \n",
    "                              value_test=0.0005, \n",
    "                              nb_steps=200000) \n",
    "dqn = DQNAgent(model=model, \n",
    "               nb_actions=num_actions, \n",
    "               memory=memory, \n",
    "               nb_steps_warmup=10,\n",
    "               target_model_update=1e-2, \n",
    "               policy=policy)\n",
    "\n",
    "# Compilation\n",
    "dqn.compile(Adam(learning_rate=0.0001), metrics=['mae']) "
   ]
  },
  {
   "cell_type": "code",
   "execution_count": 9,
   "metadata": {},
   "outputs": [
    {
     "name": "stdout",
     "output_type": "stream",
     "text": [
      "Training for 200000 steps ...\n",
      "Interval 1 (0 steps performed)\n",
      "    1/10000 [..............................] - ETA: 8:42 - reward: -1.0000"
     ]
    },
    {
     "name": "stderr",
     "output_type": "stream",
     "text": [
      "c:\\Users\\Lenovo\\anaconda3\\lib\\site-packages\\keras\\engine\\training_v1.py:2067: UserWarning: `Model.state_updates` will be removed in a future version. This property should not be used in TensorFlow 2.0, as `updates` are applied automatically.\n",
      "  updates=self.state_updates,\n",
      "c:\\Users\\Lenovo\\anaconda3\\lib\\site-packages\\rl\\memory.py:37: UserWarning: Not enough entries to sample without replacement. Consider increasing your warm-up phase to avoid oversampling!\n",
      "  warnings.warn('Not enough entries to sample without replacement. Consider increasing your warm-up phase to avoid oversampling!')\n"
     ]
    },
    {
     "name": "stdout",
     "output_type": "stream",
     "text": [
      "10000/10000 [==============================] - 76s 8ms/step - reward: -0.6960\n",
      "166 episodes - episode_reward: -41.771 [-60.000, 26.000] - loss: 1.032 - mae: 6.385 - mean_q: -8.506 - mean_tau: 0.975\n",
      "\n",
      "Interval 2 (10000 steps performed)\n",
      "10000/10000 [==============================] - 79s 8ms/step - reward: -0.6588\n",
      "167 episodes - episode_reward: -39.569 [-60.000, 16.000] - loss: 1.513 - mae: 9.532 - mean_q: -13.539 - mean_tau: 0.925\n",
      "\n",
      "Interval 3 (20000 steps performed)\n",
      "10000/10000 [==============================] - 89s 9ms/step - reward: -0.7584\n",
      "167 episodes - episode_reward: -45.449 [-60.000, 12.000] - loss: 1.461 - mae: 9.623 - mean_q: -13.661 - mean_tau: 0.875\n",
      "\n",
      "Interval 4 (30000 steps performed)\n",
      "10000/10000 [==============================] - 82s 8ms/step - reward: -0.8086\n",
      "166 episodes - episode_reward: -48.566 [-60.000, -10.000] - loss: 1.581 - mae: 10.329 - mean_q: -14.713 - mean_tau: 0.825\n",
      "\n",
      "Interval 5 (40000 steps performed)\n",
      "10000/10000 [==============================] - 82s 8ms/step - reward: -0.7690\n",
      "167 episodes - episode_reward: -46.132 [-60.000, 10.000] - loss: 1.779 - mae: 11.358 - mean_q: -16.248 - mean_tau: 0.775\n",
      "\n",
      "Interval 6 (50000 steps performed)\n",
      "10000/10000 [==============================] - 87s 9ms/step - reward: -0.7994\n",
      "167 episodes - episode_reward: -47.928 [-60.000, 18.000] - loss: 1.819 - mae: 11.724 - mean_q: -16.787 - mean_tau: 0.725\n",
      "\n",
      "Interval 7 (60000 steps performed)\n",
      "10000/10000 [==============================] - 82s 8ms/step - reward: -0.8012\n",
      "166 episodes - episode_reward: -48.060 [-60.000, -2.000] - loss: 1.837 - mae: 12.198 - mean_q: -17.510 - mean_tau: 0.675\n",
      "\n",
      "Interval 8 (70000 steps performed)\n",
      "10000/10000 [==============================] - 83s 8ms/step - reward: -0.8154\n",
      "167 episodes - episode_reward: -49.042 [-60.000, 18.000] - loss: 1.941 - mae: 12.767 - mean_q: -18.351 - mean_tau: 0.625\n",
      "\n",
      "Interval 9 (80000 steps performed)\n",
      "10000/10000 [==============================] - 84s 8ms/step - reward: -0.8378\n",
      "167 episodes - episode_reward: -50.156 [-60.000, 10.000] - loss: 1.856 - mae: 13.179 - mean_q: -18.954 - mean_tau: 0.575\n",
      "\n",
      "Interval 10 (90000 steps performed)\n",
      "10000/10000 [==============================] - 83s 8ms/step - reward: -0.7868\n",
      "166 episodes - episode_reward: -47.193 [-60.000, 12.000] - loss: 1.832 - mae: 13.622 - mean_q: -19.597 - mean_tau: 0.525\n",
      "\n",
      "Interval 11 (100000 steps performed)\n",
      "10000/10000 [==============================] - 83s 8ms/step - reward: -0.7992\n",
      "167 episodes - episode_reward: -47.940 [-60.000, 12.000] - loss: 1.867 - mae: 13.795 - mean_q: -19.854 - mean_tau: 0.476\n",
      "\n",
      "Interval 12 (110000 steps performed)\n",
      " 2712/10000 [=======>......................] - ETA: 1:03 - reward: -0.7972done, took 933.922 seconds\n"
     ]
    },
    {
     "data": {
      "text/plain": [
       "<keras.callbacks.History at 0x17cfd1e1ac0>"
      ]
     },
     "execution_count": 9,
     "metadata": {},
     "output_type": "execute_result"
    }
   ],
   "source": [
    "dqn.fit(env, nb_steps=200000, visualize=False, verbose=1)"
   ]
  },
  {
   "cell_type": "code",
   "execution_count": 10,
   "metadata": {},
   "outputs": [
    {
     "name": "stdout",
     "output_type": "stream",
     "text": [
      "Testing for 150 episodes ...\n",
      "Episode 1: reward: -58.000, steps: 60\n",
      "Episode 2: reward: -58.000, steps: 60\n",
      "Episode 3: reward: -56.000, steps: 60\n",
      "Episode 4: reward: -58.000, steps: 60\n",
      "Episode 5: reward: -60.000, steps: 60\n",
      "Episode 6: reward: -60.000, steps: 60\n",
      "Episode 7: reward: -60.000, steps: 60\n",
      "Episode 8: reward: -60.000, steps: 60\n",
      "Episode 9: reward: -58.000, steps: 60\n",
      "Episode 10: reward: -60.000, steps: 60\n",
      "Episode 11: reward: -60.000, steps: 60\n",
      "Episode 12: reward: -60.000, steps: 60\n",
      "Episode 13: reward: -56.000, steps: 60\n",
      "Episode 14: reward: -56.000, steps: 60\n",
      "Episode 15: reward: -58.000, steps: 60\n",
      "Episode 16: reward: -60.000, steps: 60\n",
      "Episode 17: reward: -60.000, steps: 60\n",
      "Episode 18: reward: -60.000, steps: 60\n",
      "Episode 19: reward: -54.000, steps: 60\n",
      "Episode 20: reward: -56.000, steps: 60\n",
      "Episode 21: reward: -58.000, steps: 60\n",
      "Episode 22: reward: -58.000, steps: 60\n",
      "Episode 23: reward: -60.000, steps: 60\n",
      "Episode 24: reward: -60.000, steps: 60\n",
      "Episode 25: reward: -52.000, steps: 60\n",
      "Episode 26: reward: -60.000, steps: 60\n",
      "Episode 27: reward: -58.000, steps: 60\n",
      "Episode 28: reward: -54.000, steps: 60\n",
      "Episode 29: reward: -56.000, steps: 60\n",
      "Episode 30: reward: -52.000, steps: 60\n",
      "Episode 31: reward: -60.000, steps: 60\n",
      "Episode 32: reward: -58.000, steps: 60\n",
      "Episode 33: reward: -60.000, steps: 60\n",
      "Episode 34: reward: -60.000, steps: 60\n",
      "Episode 35: reward: -60.000, steps: 60\n",
      "Episode 36: reward: -60.000, steps: 60\n",
      "Episode 37: reward: -54.000, steps: 60\n",
      "Episode 38: reward: -52.000, steps: 60\n",
      "Episode 39: reward: -60.000, steps: 60\n",
      "Episode 40: reward: -60.000, steps: 60\n",
      "Episode 41: reward: -54.000, steps: 60\n",
      "Episode 42: reward: -48.000, steps: 60\n",
      "Episode 43: reward: -60.000, steps: 60\n",
      "Episode 44: reward: -60.000, steps: 60\n",
      "Episode 45: reward: -52.000, steps: 60\n",
      "Episode 46: reward: -48.000, steps: 60\n",
      "Episode 47: reward: -58.000, steps: 60\n",
      "Episode 48: reward: -58.000, steps: 60\n",
      "Episode 49: reward: -54.000, steps: 60\n",
      "Episode 50: reward: -54.000, steps: 60\n",
      "Episode 51: reward: -60.000, steps: 60\n",
      "Episode 52: reward: -56.000, steps: 60\n",
      "Episode 53: reward: -58.000, steps: 60\n",
      "Episode 54: reward: -60.000, steps: 60\n",
      "Episode 55: reward: -54.000, steps: 60\n",
      "Episode 56: reward: -60.000, steps: 60\n",
      "Episode 57: reward: -60.000, steps: 60\n",
      "Episode 58: reward: -60.000, steps: 60\n",
      "Episode 59: reward: -48.000, steps: 60\n",
      "Episode 60: reward: -54.000, steps: 60\n",
      "Episode 61: reward: -60.000, steps: 60\n",
      "Episode 62: reward: -60.000, steps: 60\n",
      "Episode 63: reward: -52.000, steps: 60\n",
      "Episode 64: reward: -58.000, steps: 60\n",
      "Episode 65: reward: -48.000, steps: 60\n",
      "Episode 66: reward: -60.000, steps: 60\n",
      "Episode 67: reward: -58.000, steps: 60\n",
      "Episode 68: reward: -58.000, steps: 60\n",
      "Episode 69: reward: -58.000, steps: 60\n",
      "Episode 70: reward: -60.000, steps: 60\n",
      "Episode 71: reward: -60.000, steps: 60\n",
      "Episode 72: reward: -60.000, steps: 60\n",
      "Episode 73: reward: -54.000, steps: 60\n",
      "Episode 74: reward: -60.000, steps: 60\n",
      "Episode 75: reward: -60.000, steps: 60\n",
      "Episode 76: reward: -58.000, steps: 60\n",
      "Episode 77: reward: -60.000, steps: 60\n",
      "Episode 78: reward: -52.000, steps: 60\n",
      "Episode 79: reward: -56.000, steps: 60\n",
      "Episode 80: reward: -58.000, steps: 60\n",
      "Episode 81: reward: -60.000, steps: 60\n",
      "Episode 82: reward: -52.000, steps: 60\n",
      "Episode 83: reward: -56.000, steps: 60\n",
      "Episode 84: reward: -60.000, steps: 60\n",
      "Episode 85: reward: -60.000, steps: 60\n",
      "Episode 86: reward: -60.000, steps: 60\n",
      "Episode 87: reward: -58.000, steps: 60\n",
      "Episode 88: reward: -60.000, steps: 60\n",
      "Episode 89: reward: -58.000, steps: 60\n",
      "Episode 90: reward: -60.000, steps: 60\n",
      "Episode 91: reward: -60.000, steps: 60\n",
      "Episode 92: reward: -44.000, steps: 60\n",
      "Episode 93: reward: -60.000, steps: 60\n",
      "Episode 94: reward: -54.000, steps: 60\n",
      "Episode 95: reward: -60.000, steps: 60\n",
      "Episode 96: reward: -50.000, steps: 60\n",
      "Episode 97: reward: -60.000, steps: 60\n",
      "Episode 98: reward: -52.000, steps: 60\n",
      "Episode 99: reward: -54.000, steps: 60\n",
      "Episode 100: reward: -60.000, steps: 60\n",
      "Episode 101: reward: -52.000, steps: 60\n",
      "Episode 102: reward: -58.000, steps: 60\n",
      "Episode 103: reward: -60.000, steps: 60\n",
      "Episode 104: reward: -60.000, steps: 60\n",
      "Episode 105: reward: -60.000, steps: 60\n",
      "Episode 106: reward: -54.000, steps: 60\n",
      "Episode 107: reward: -58.000, steps: 60\n",
      "Episode 108: reward: -58.000, steps: 60\n",
      "Episode 109: reward: -58.000, steps: 60\n",
      "Episode 110: reward: -54.000, steps: 60\n",
      "Episode 111: reward: -60.000, steps: 60\n",
      "Episode 112: reward: -58.000, steps: 60\n",
      "Episode 113: reward: -60.000, steps: 60\n",
      "Episode 114: reward: -60.000, steps: 60\n",
      "Episode 115: reward: -58.000, steps: 60\n",
      "Episode 116: reward: -60.000, steps: 60\n",
      "Episode 117: reward: -60.000, steps: 60\n",
      "Episode 118: reward: -58.000, steps: 60\n",
      "Episode 119: reward: -60.000, steps: 60\n",
      "Episode 120: reward: -54.000, steps: 60\n",
      "Episode 121: reward: -60.000, steps: 60\n",
      "Episode 122: reward: -60.000, steps: 60\n",
      "Episode 123: reward: -58.000, steps: 60\n",
      "Episode 124: reward: -60.000, steps: 60\n",
      "Episode 125: reward: -60.000, steps: 60\n",
      "Episode 126: reward: -60.000, steps: 60\n",
      "Episode 127: reward: -52.000, steps: 60\n",
      "Episode 128: reward: -60.000, steps: 60\n",
      "Episode 129: reward: -58.000, steps: 60\n",
      "Episode 130: reward: -56.000, steps: 60\n",
      "Episode 131: reward: -54.000, steps: 60\n",
      "Episode 132: reward: -60.000, steps: 60\n",
      "Episode 133: reward: -58.000, steps: 60\n",
      "Episode 134: reward: -54.000, steps: 60\n",
      "Episode 135: reward: -54.000, steps: 60\n",
      "Episode 136: reward: -56.000, steps: 60\n",
      "Episode 137: reward: -40.000, steps: 60\n",
      "Episode 138: reward: -52.000, steps: 60\n",
      "Episode 139: reward: -54.000, steps: 60\n",
      "Episode 140: reward: -44.000, steps: 60\n",
      "Episode 141: reward: -56.000, steps: 60\n",
      "Episode 142: reward: -60.000, steps: 60\n",
      "Episode 143: reward: -56.000, steps: 60\n",
      "Episode 144: reward: -60.000, steps: 60\n",
      "Episode 145: reward: -52.000, steps: 60\n",
      "Episode 146: reward: -58.000, steps: 60\n",
      "Episode 147: reward: -60.000, steps: 60\n",
      "Episode 148: reward: -60.000, steps: 60\n",
      "Episode 149: reward: -54.000, steps: 60\n",
      "Episode 150: reward: -52.000, steps: 60\n",
      "-57.08\n"
     ]
    }
   ],
   "source": [
    "results = dqn.test(env, nb_episodes=150, visualize=False)\n",
    "print(np.mean(results.history['episode_reward']))"
   ]
  }
 ],
 "metadata": {
  "kernelspec": {
   "display_name": "Python 3.9.12 ('base')",
   "language": "python",
   "name": "python3"
  },
  "language_info": {
   "codemirror_mode": {
    "name": "ipython",
    "version": 3
   },
   "file_extension": ".py",
   "mimetype": "text/x-python",
   "name": "python",
   "nbconvert_exporter": "python",
   "pygments_lexer": "ipython3",
   "version": "3.9.12"
  },
  "orig_nbformat": 4,
  "vscode": {
   "interpreter": {
    "hash": "20a9e06a1eee47c4abbed4ec8225ad91d78d9800d202b71b6b0a6e47016c6abd"
   }
  }
 },
 "nbformat": 4,
 "nbformat_minor": 2
}
