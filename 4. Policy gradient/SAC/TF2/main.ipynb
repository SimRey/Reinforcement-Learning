{
 "cells": [
  {
   "cell_type": "code",
   "execution_count": null,
   "metadata": {},
   "outputs": [],
   "source": [
    "import gym\n",
    "import pybullet_envs\n",
    "import numpy as np\n",
    "from sac_agent import Agent\n",
    "import time\n",
    "import matplotlib.pyplot as plt"
   ]
  },
  {
   "cell_type": "code",
   "execution_count": null,
   "metadata": {},
   "outputs": [],
   "source": [
    "if __name__ ==\"__main__\":\n",
    "    env_id = 'Pendulum-v0'\n",
    "    env = gym.make(env_id)\n",
    "    agent = Agent(n_actions=env.action_space.shape[0], alpha=0.003, beta=0.008,\n",
    "                  env=env, gamma=0.99, mem_size=50000, tau=0.005, fc1_dims=512, fc2_dims=256, \n",
    "                  batch_size=128, chkpt_dir='models/')\n",
    "    n_games = 501\n",
    "\n",
    "    best_score = env.reward_range[0]\n",
    "    score_history = []\n",
    "    load_checkpoint = False\n",
    "\n",
    "    if load_checkpoint:\n",
    "        agent.load_models()\n",
    "\n",
    "    for i in range(n_games):\n",
    "        observation = env.reset()\n",
    "        done = False\n",
    "        score = 0\n",
    "        while not done:\n",
    "            action = agent.choose_action(observation)\n",
    "            observation_, reward, done, info = env.step(action)\n",
    "            score += reward\n",
    "            agent.store_transition(observation, action, reward,\n",
    "                                   observation_, done)\n",
    "            if not load_checkpoint:\n",
    "                agent.learn()\n",
    "            observation = observation_\n",
    "\n",
    "        score_history.append(score)\n",
    "        avg_score = np.mean(score_history[-100:])\n",
    "\n",
    "        if avg_score > best_score:\n",
    "            best_score = avg_score\n",
    "        \n",
    "        if 300 <= i and score_history[-2] < score_history[-1]:\n",
    "            agent.save_models()\n",
    "\n",
    "        print('episode {} score {:.1f} avg score {:.1f}'.\n",
    "              format(i, score, avg_score))\n",
    "\n"
   ]
  },
  {
   "cell_type": "code",
   "execution_count": null,
   "metadata": {},
   "outputs": [],
   "source": [
    "def plot_learning_curve(x, scores):\n",
    "    running_avg = np.zeros(len(scores))\n",
    "    for i in range(len(running_avg)):\n",
    "        running_avg[i] = np.mean(scores[max(0, i-100):(i+1)])\n",
    "    plt.plot(x, running_avg)\n",
    "    plt.title('Running average of previous 100 scores')\n",
    "\n",
    "x = [i+1 for i in range(n_games)]\n",
    "plot_learning_curve(x, score_history)"
   ]
  },
  {
   "cell_type": "code",
   "execution_count": null,
   "metadata": {},
   "outputs": [],
   "source": [
    "scores = []\n",
    "agent.load_models() \n",
    "evaluate = True\n",
    "\n",
    "for i in range(100):\n",
    "    obs = env.reset()\n",
    "    actions = []\n",
    "    score = 0\n",
    "    while True:\n",
    "        action = agent.choose_action(obs, evaluate)\n",
    "        obs, reward, done, info = env.step(action)\n",
    "        score += reward\n",
    "        actions.append(action)\n",
    "\n",
    "        if done:\n",
    "            print(f\"Done, points: {score}\")\n",
    "            break\n",
    "    \n",
    "    scores.append(score)\n",
    "    \n",
    "    env.close()"
   ]
  },
  {
   "cell_type": "code",
   "execution_count": null,
   "metadata": {},
   "outputs": [],
   "source": [
    "np.mean(scores)"
   ]
  }
 ],
 "metadata": {
  "kernelspec": {
   "display_name": "base",
   "language": "python",
   "name": "python3"
  },
  "language_info": {
   "codemirror_mode": {
    "name": "ipython",
    "version": 3
   },
   "file_extension": ".py",
   "mimetype": "text/x-python",
   "name": "python",
   "nbconvert_exporter": "python",
   "pygments_lexer": "ipython3",
   "version": "3.9.12"
  },
  "orig_nbformat": 4,
  "vscode": {
   "interpreter": {
    "hash": "20a9e06a1eee47c4abbed4ec8225ad91d78d9800d202b71b6b0a6e47016c6abd"
   }
  }
 },
 "nbformat": 4,
 "nbformat_minor": 2
}
