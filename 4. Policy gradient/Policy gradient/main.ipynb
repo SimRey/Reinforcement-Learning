{
 "cells": [
  {
   "cell_type": "code",
   "execution_count": null,
   "metadata": {},
   "outputs": [],
   "source": [
    "import numpy as np\n",
    "import gym\n",
    "import matplotlib.pyplot as plt\n",
    "from IPython.display import clear_output\n",
    "from reinforce import Agent"
   ]
  },
  {
   "cell_type": "code",
   "execution_count": null,
   "metadata": {},
   "outputs": [],
   "source": [
    "if __name__ == '__main__':\n",
    "    env = gym.make('CartPole-v0')    \n",
    "    best_score = -np.inf\n",
    "    n_games = 5001\n",
    "    agent = Agent(lr=0.0005, gamma=0.99, n_actions=env.action_space.n)\n",
    "\n",
    "    scores = []\n",
    "\n",
    "    for i in range(n_games):\n",
    "        done = False\n",
    "        score = 0\n",
    "        observation = env.reset()\n",
    "        while not done:\n",
    "            action = agent.choose_action(observation)\n",
    "            observation_, reward, done, info = env.step(action)\n",
    "            score += reward\n",
    "            agent.store_transition(observation, action, reward)\n",
    "            agent.learn()\n",
    "\n",
    "            observation = observation_\n",
    "            \n",
    "        scores.append(score)\n",
    "\n",
    "        \n",
    "        avg_score = np.mean(scores[-100:])\n",
    "        clear_output(wait=True)\n",
    "        \n",
    "        if score > best_score:\n",
    "            best_score = score\n",
    "\n",
    "        print('episode {} score {:.1f} avg score {:.1f}'.\n",
    "              format(i, score, avg_score))\n",
    "\n",
    "    agent.save_model()"
   ]
  },
  {
   "cell_type": "code",
   "execution_count": null,
   "metadata": {},
   "outputs": [],
   "source": [
    "x = [i for i in range(n_games)]\n",
    "running_avg = np.zeros(len(scores))\n",
    "for i in range(len(running_avg)):\n",
    "    running_avg[i] = np.mean(scores[max(0, i-100):(i+1)])\n",
    "plt.plot(x, running_avg)\n",
    "plt.title('Running average of previous 100 scores')"
   ]
  },
  {
   "cell_type": "code",
   "execution_count": null,
   "metadata": {},
   "outputs": [],
   "source": [
    "obs = env.reset()\n",
    "env.render(mode=\"human\")\n",
    "points = 0\n",
    "actions = []\n",
    " \n",
    "model = agent.load_model()\n",
    " \n",
    " \n",
    "def test(model, obs, env):\n",
    "    # Get discretized observation\n",
    "    action = agent.choose_action(observation)\n",
    " \n",
    "    # Perform the action\n",
    "    obs, reward, done, *info = env.step(action) # Finally perform the action\n",
    " \n",
    "    return obs, action, reward, done, *info\n",
    " \n",
    "for counter in range(200):\n",
    "    points += 1\n",
    " \n",
    "    obs, action, reward, done, *info = test(model, obs, env)\n",
    " \n",
    "    actions.append(action)\n",
    "    if done:\n",
    "        print(f\"Done, points: {points}\")\n",
    "        break\n",
    " \n",
    "env.close()"
   ]
  }
 ],
 "metadata": {
  "kernelspec": {
   "display_name": "base",
   "language": "python",
   "name": "python3"
  },
  "language_info": {
   "codemirror_mode": {
    "name": "ipython",
    "version": 3
   },
   "file_extension": ".py",
   "mimetype": "text/x-python",
   "name": "python",
   "nbconvert_exporter": "python",
   "pygments_lexer": "ipython3",
   "version": "3.9.12"
  },
  "orig_nbformat": 4,
  "vscode": {
   "interpreter": {
    "hash": "20a9e06a1eee47c4abbed4ec8225ad91d78d9800d202b71b6b0a6e47016c6abd"
   }
  }
 },
 "nbformat": 4,
 "nbformat_minor": 2
}
