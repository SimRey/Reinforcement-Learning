{
 "cells": [
  {
   "cell_type": "code",
   "execution_count": 1,
   "metadata": {},
   "outputs": [],
   "source": [
    "import gym\n",
    "import numpy as np\n",
    "from ddpg_agent import Agent\n",
    "import time\n",
    "import matplotlib.pyplot as plt"
   ]
  },
  {
   "cell_type": "code",
   "execution_count": 2,
   "metadata": {},
   "outputs": [
    {
     "name": "stderr",
     "output_type": "stream",
     "text": [
      "c:\\Users\\Lenovo\\anaconda3\\lib\\site-packages\\gym\\logger.py:30: UserWarning: \u001b[33mWARN: Box bound precision lowered by casting to float32\u001b[0m\n",
      "  warnings.warn(colorize('%s: %s'%('WARN', msg % args), 'yellow'))\n",
      "c:\\Users\\Lenovo\\Desktop\\Python\\Reinforcement Learning\\4. Policy gradient\\DDPG\\Pytorch\\ddpg_agent.py:51: UserWarning: Creating a tensor from a list of numpy.ndarrays is extremely slow. Please consider converting the list to a single numpy.ndarray with numpy.array() before converting to a tensor. (Triggered internally at C:\\actions-runner\\_work\\pytorch\\pytorch\\builder\\windows\\pytorch\\torch\\csrc\\utils\\tensor_new.cpp:233.)\n",
      "  state = T.tensor([observation], dtype=T.float)\n",
      "c:\\Users\\Lenovo\\Desktop\\Python\\Reinforcement Learning\\4. Policy gradient\\DDPG\\Pytorch\\ddpg_agent.py:79: UserWarning: To copy construct from a tensor, it is recommended to use sourceTensor.clone().detach() or sourceTensor.clone().detach().requires_grad_(True), rather than torch.tensor(sourceTensor).\n",
      "  states = T.tensor(states, dtype=T.float)\n",
      "c:\\Users\\Lenovo\\Desktop\\Python\\Reinforcement Learning\\4. Policy gradient\\DDPG\\Pytorch\\ddpg_agent.py:80: UserWarning: To copy construct from a tensor, it is recommended to use sourceTensor.clone().detach() or sourceTensor.clone().detach().requires_grad_(True), rather than torch.tensor(sourceTensor).\n",
      "  states_ = T.tensor(states_, dtype=T.float)\n",
      "c:\\Users\\Lenovo\\Desktop\\Python\\Reinforcement Learning\\4. Policy gradient\\DDPG\\Pytorch\\ddpg_agent.py:81: UserWarning: To copy construct from a tensor, it is recommended to use sourceTensor.clone().detach() or sourceTensor.clone().detach().requires_grad_(True), rather than torch.tensor(sourceTensor).\n",
      "  actions = T.tensor(actions, dtype=T.float)\n",
      "c:\\Users\\Lenovo\\Desktop\\Python\\Reinforcement Learning\\4. Policy gradient\\DDPG\\Pytorch\\ddpg_agent.py:82: UserWarning: To copy construct from a tensor, it is recommended to use sourceTensor.clone().detach() or sourceTensor.clone().detach().requires_grad_(True), rather than torch.tensor(sourceTensor).\n",
      "  rewards = T.tensor(rewards, dtype=T.float)\n",
      "c:\\Users\\Lenovo\\Desktop\\Python\\Reinforcement Learning\\4. Policy gradient\\DDPG\\Pytorch\\ddpg_agent.py:83: UserWarning: To copy construct from a tensor, it is recommended to use sourceTensor.clone().detach() or sourceTensor.clone().detach().requires_grad_(True), rather than torch.tensor(sourceTensor).\n",
      "  done = T.tensor(done)\n"
     ]
    },
    {
     "name": "stdout",
     "output_type": "stream",
     "text": [
      "episode 0 score -1426.8 avg score -1426.8\n",
      "episode 1 score -944.0 avg score -1185.4\n",
      "episode 2 score -1842.3 avg score -1404.4\n",
      "episode 3 score -984.3 avg score -1299.3\n"
     ]
    }
   ],
   "source": [
    "if __name__ ==\"__main__\":\n",
    "    env = gym.make(\"Pendulum-v0\")\n",
    "    agent = Agent(input_dims=(env.observation_space.shape), n_actions=env.action_space.shape[0], alpha=0.001, beta=0.002,\n",
    "                  env=env, gamma=0.99, mem_size=50000, tau=0.005, fc1_dims=400, fc2_dims=300, batch_size=64)\n",
    "    n_games = 2001\n",
    "\n",
    "    best_score = env.reward_range[0]\n",
    "    score_history = []\n",
    "\n",
    "    for i in range(n_games):\n",
    "        observation = env.reset()\n",
    "        done = False\n",
    "        score = 0\n",
    "        while not done:\n",
    "            action = agent.choose_action(observation)\n",
    "            observation_, reward, done, info = env.step(action)\n",
    "            score += reward\n",
    "            agent.store_transition(observation, action, reward,\n",
    "                                   observation_, done)\n",
    "            agent.learn()\n",
    "            observation = observation_\n",
    "\n",
    "        score_history.append(score)\n",
    "        avg_score = np.mean(score_history[-100:])\n",
    "\n",
    "        if avg_score > best_score:\n",
    "            best_score = avg_score\n",
    "        \n",
    "        if 300 <= i and score_history[-2] < score_history[-1]:\n",
    "            agent.save_models()\n",
    "\n",
    "        print('episode {} score {:.1f} avg score {:.1f}'.\n",
    "              format(i, score, avg_score))"
   ]
  },
  {
   "cell_type": "code",
   "execution_count": null,
   "metadata": {},
   "outputs": [],
   "source": [
    "def plot_learning_curve(x, scores):\n",
    "    running_avg = np.zeros(len(scores))\n",
    "    for i in range(len(running_avg)):\n",
    "        running_avg[i] = np.mean(scores[max(0, i-100):(i+1)])\n",
    "    plt.plot(x, running_avg)\n",
    "    plt.title('Running average of previous 100 scores')\n",
    "\n",
    "x = [i+1 for i in range(n_games)]\n",
    "plot_learning_curve(x, score_history)"
   ]
  }
 ],
 "metadata": {
  "kernelspec": {
   "display_name": "base",
   "language": "python",
   "name": "python3"
  },
  "language_info": {
   "codemirror_mode": {
    "name": "ipython",
    "version": 3
   },
   "file_extension": ".py",
   "mimetype": "text/x-python",
   "name": "python",
   "nbconvert_exporter": "python",
   "pygments_lexer": "ipython3",
   "version": "3.9.12"
  },
  "orig_nbformat": 4,
  "vscode": {
   "interpreter": {
    "hash": "20a9e06a1eee47c4abbed4ec8225ad91d78d9800d202b71b6b0a6e47016c6abd"
   }
  }
 },
 "nbformat": 4,
 "nbformat_minor": 2
}
